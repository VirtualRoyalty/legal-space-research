{
 "cells": [
  {
   "cell_type": "code",
   "execution_count": 1,
   "metadata": {},
   "outputs": [],
   "source": [
    "import os\n",
    "import re\n",
    "\n",
    "import pandas as pd\n",
    "from pymystem3 import Mystem\n",
    "from many_stop_words import get_stop_words"
   ]
  },
  {
   "cell_type": "code",
   "execution_count": 2,
   "metadata": {},
   "outputs": [],
   "source": [
    "criminal_code = pd.read_json('data/criminal_code/criminal_code.json')\n",
    "civil_code = pd.read_json('data/civil_code/civil_code.json')"
   ]
  },
  {
   "cell_type": "markdown",
   "metadata": {},
   "source": [
    "Лемматизируем статьи. Выбрасываем стоп-слова фильтруем леммы по длине"
   ]
  },
  {
   "cell_type": "code",
   "execution_count": 3,
   "metadata": {},
   "outputs": [],
   "source": [
    "def lemmatize(text, stem=Mystem(entire_input=False)):\n",
    "    return ' '.join(stem.lemmatize(text))\n",
    "\n",
    "def remove_stopwords(text, stopwords=get_stop_words('ru'), min_len=3):\n",
    "    return ' '.join(list(filter(lambda lemma: lemma not in stopwords and len(lemma) >= min_len, text.split())))\n",
    "\n",
    "criminal_code['lemmas'] = criminal_code['article'].map(lemmatize).map(remove_stopwords)\n",
    "civil_code['lemmas'] = civil_code['article'].map(lemmatize).map(remove_stopwords)"
   ]
  },
  {
   "cell_type": "code",
   "execution_count": 4,
   "metadata": {},
   "outputs": [],
   "source": [
    "if not os.path.exists('tmp'):\n",
    "    os.mkdir('tmp')\n",
    "\n",
    "criminal_code.to_csv('tmp/criminal_code.csv', index=False)\n",
    "civil_code.to_csv('tmp/civil_code.csv', index=False)"
   ]
  }
 ],
 "metadata": {
  "kernelspec": {
   "display_name": "diploma",
   "language": "python",
   "name": "diploma"
  },
  "language_info": {
   "codemirror_mode": {
    "name": "ipython",
    "version": 3
   },
   "file_extension": ".py",
   "mimetype": "text/x-python",
   "name": "python",
   "nbconvert_exporter": "python",
   "pygments_lexer": "ipython3",
   "version": "3.6.4"
  }
 },
 "nbformat": 4,
 "nbformat_minor": 2
}
