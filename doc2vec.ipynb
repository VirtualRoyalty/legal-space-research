{
 "cells": [
  {
   "cell_type": "code",
   "execution_count": 1,
   "metadata": {},
   "outputs": [],
   "source": [
    "import gensim\n",
    "import pandas as pd"
   ]
  },
  {
   "cell_type": "code",
   "execution_count": 2,
   "metadata": {},
   "outputs": [],
   "source": [
    "df = pd.read_csv('data/judicial_orders.csv')\n",
    "code = pd.read_csv('data/criminal_code.csv')"
   ]
  },
  {
   "cell_type": "code",
   "execution_count": 3,
   "metadata": {},
   "outputs": [],
   "source": [
    "df['lemmas'] = df['lemmas'].map(eval)\n",
    "df['labels'] = df['labels'].map(eval)\n",
    "code['lemmas'] = code['lemmas'].map(eval)"
   ]
  },
  {
   "cell_type": "markdown",
   "metadata": {},
   "source": [
    "## Модель, обученная на судебных решениях\n",
    "Метка документа (label) - одна из статей, указанная судьёй в решении"
   ]
  },
  {
   "cell_type": "code",
   "execution_count": 9,
   "metadata": {},
   "outputs": [],
   "source": [
    "td = lambda row: gensim.models.doc2vec.TaggedDocument(\n",
    "    words=row['lemmas'], \n",
    "    tags=[row['labels'][0]]\n",
    ")\n",
    "documents = df.apply(td, axis=1).tolist()"
   ]
  },
  {
   "cell_type": "code",
   "execution_count": 10,
   "metadata": {},
   "outputs": [],
   "source": [
    "model = gensim.models.doc2vec.Doc2Vec(alpha=0.025, min_alpha=0.025)  # use fixed learning rate\n",
    "model.build_vocab(documents)\n",
    "\n",
    "model.train(documents, total_examples=model.corpus_count, epochs=25, \n",
    "            start_alpha=0.025, end_alpha=0.02)"
   ]
  },
  {
   "cell_type": "markdown",
   "metadata": {},
   "source": [
    "Вектора, построенные doc2vec для каждой из меток:"
   ]
  },
  {
   "cell_type": "code",
   "execution_count": 11,
   "metadata": {},
   "outputs": [],
   "source": [
    "doc_vectors = dict(zip(model.docvecs.offset2doctag, model.docvecs.vectors_docs))"
   ]
  },
  {
   "cell_type": "code",
   "execution_count": 12,
   "metadata": {},
   "outputs": [],
   "source": [
    "code['vectors'] = code['number'].map(lambda x: list(doc_vectors[x]) if x in doc_vectors else None)"
   ]
  },
  {
   "cell_type": "code",
   "execution_count": 13,
   "metadata": {},
   "outputs": [],
   "source": [
    "code.dropna(subset=['vectors']).drop(['lemmas'], axis=1).to_csv('results/doc2vec.csv', index=False)"
   ]
  },
  {
   "cell_type": "code",
   "execution_count": 14,
   "metadata": {},
   "outputs": [],
   "source": [
    "df['vectors'] = df['lemmas'].map(lambda x: list(model.infer_vector(x, steps=25)))"
   ]
  },
  {
   "cell_type": "markdown",
   "metadata": {},
   "source": [
    "Best of one score - для каждого судебного решения ставится 1, если модель верно угадала одну из статей в решении судьи, иначе 0"
   ]
  },
  {
   "cell_type": "code",
   "execution_count": 18,
   "metadata": {},
   "outputs": [],
   "source": [
    "from scipy.spatial.distance import cosine\n",
    "def find_nearest(vector):\n",
    "    distances = []\n",
    "    for num, v in doc_vectors.items():\n",
    "        distances.append((num, cosine(vector, v)))\n",
    "    return min(distances, key=lambda x: x[1])[0]"
   ]
  },
  {
   "cell_type": "code",
   "execution_count": 19,
   "metadata": {},
   "outputs": [
    {
     "data": {
      "text/plain": [
       "0.46147386101196725"
      ]
     },
     "execution_count": 19,
     "metadata": {},
     "output_type": "execute_result"
    }
   ],
   "source": [
    "df['nearest'] = df['vectors'].map(find_nearest)\n",
    "df['res'] = df.apply(lambda row: 1 if row['nearest'] in row['labels'] else 0, axis=1)\n",
    "df['res'].sum() / df.shape[0]"
   ]
  },
  {
   "cell_type": "markdown",
   "metadata": {},
   "source": [
    "## Модель, обученная только на статьях УК РФ"
   ]
  },
  {
   "cell_type": "code",
   "execution_count": 9,
   "metadata": {},
   "outputs": [],
   "source": [
    "td = lambda row: gensim.models.doc2vec.TaggedDocument(\n",
    "    words=row['lemmas'], \n",
    "    tags=[row['number']]\n",
    ")\n",
    "documents = code.apply(td, axis=1).tolist()"
   ]
  },
  {
   "cell_type": "code",
   "execution_count": 12,
   "metadata": {},
   "outputs": [],
   "source": [
    "model = gensim.models.doc2vec.Doc2Vec(alpha=0.025, min_alpha=0.025)  # use fixed learning rate\n",
    "model.build_vocab(documents)\n",
    "model.train(documents, total_examples=model.corpus_count, epochs=10, \n",
    "            start_alpha=0.025, end_alpha=0.02)"
   ]
  },
  {
   "cell_type": "code",
   "execution_count": 27,
   "metadata": {},
   "outputs": [],
   "source": [
    "doc_vectors = dict(zip(model.docvecs.offset2doctag, model.docvecs.vectors_docs))"
   ]
  },
  {
   "cell_type": "code",
   "execution_count": 28,
   "metadata": {},
   "outputs": [],
   "source": [
    "df['vector'] = df['lemmas'].map(model.infer_vector)"
   ]
  },
  {
   "cell_type": "markdown",
   "metadata": {},
   "source": [
    "Вычисление метрики best of one"
   ]
  },
  {
   "cell_type": "code",
   "execution_count": 61,
   "metadata": {},
   "outputs": [],
   "source": [
    "from scipy.spatial.distance import cosine\n",
    "def find_nearest(vector):\n",
    "    distances = []\n",
    "    for num, v in doc_vectors.items():\n",
    "        distances.append((num, cosine(vector, v)))\n",
    "    return min(distances, key=lambda x: x[1])[0]"
   ]
  },
  {
   "cell_type": "code",
   "execution_count": 40,
   "metadata": {},
   "outputs": [],
   "source": [
    "df['nearest'] = df['vector'].map(find_nearest)"
   ]
  },
  {
   "cell_type": "code",
   "execution_count": 43,
   "metadata": {},
   "outputs": [],
   "source": [
    "df['res'] = df.apply(lambda row: 1 if row['nearest'] in row['labels'] else 0, axis=1)"
   ]
  },
  {
   "cell_type": "code",
   "execution_count": 44,
   "metadata": {},
   "outputs": [
    {
     "data": {
      "text/plain": [
       "0.012597102666386731"
      ]
     },
     "execution_count": 44,
     "metadata": {},
     "output_type": "execute_result"
    }
   ],
   "source": [
    "df['res'].sum() / df.shape[0]"
   ]
  },
  {
   "cell_type": "markdown",
   "metadata": {},
   "source": [
    "## Модель обученная на судебных решениях с несколькими метками\n",
    "Каждый набор меток (labels) - статьи УК, встречающиеся в решении судьи"
   ]
  },
  {
   "cell_type": "code",
   "execution_count": 20,
   "metadata": {},
   "outputs": [],
   "source": [
    "td = lambda row: gensim.models.doc2vec.TaggedDocument(\n",
    "    words=row['lemmas'], \n",
    "    tags=row['labels']\n",
    ")\n",
    "documents = df.apply(td, axis=1).tolist()"
   ]
  },
  {
   "cell_type": "code",
   "execution_count": 21,
   "metadata": {},
   "outputs": [],
   "source": [
    "model = gensim.models.doc2vec.Doc2Vec(alpha=0.025, min_alpha=0.025)  # use fixed learning rate\n",
    "model.build_vocab(documents)\n",
    "model.train(documents, total_examples=model.corpus_count, epochs=25, \n",
    "            start_alpha=0.025, end_alpha=0.02)"
   ]
  },
  {
   "cell_type": "code",
   "execution_count": 22,
   "metadata": {},
   "outputs": [],
   "source": [
    "doc_vectors = dict(zip(model.docvecs.offset2doctag, model.docvecs.vectors_docs))"
   ]
  },
  {
   "cell_type": "code",
   "execution_count": 23,
   "metadata": {},
   "outputs": [],
   "source": [
    "code['vectors'] = code['number'].map(lambda x: list(doc_vectors[x]) if x in doc_vectors else None)"
   ]
  },
  {
   "cell_type": "code",
   "execution_count": 24,
   "metadata": {},
   "outputs": [],
   "source": [
    "code.dropna(subset=['vectors']).drop(['lemmas'], axis=1)\\\n",
    "    .to_csv('results/doc2vec_multilabels.csv', index=False)"
   ]
  },
  {
   "cell_type": "code",
   "execution_count": 25,
   "metadata": {},
   "outputs": [],
   "source": [
    "df['vectors'] = df['lemmas'].map(lambda x: list(model.infer_vector(x, steps=25)))"
   ]
  },
  {
   "cell_type": "code",
   "execution_count": 26,
   "metadata": {},
   "outputs": [
    {
     "data": {
      "text/plain": [
       "0.452865840856603"
      ]
     },
     "execution_count": 26,
     "metadata": {},
     "output_type": "execute_result"
    }
   ],
   "source": [
    "df['nearest'] = df['vectors'].map(find_nearest)\n",
    "df['res'] = df.apply(lambda row: 1 if row['nearest'] in row['labels'] else 0, axis=1)\n",
    "df['res'].sum() / df.shape[0]"
   ]
  },
  {
   "cell_type": "markdown",
   "metadata": {},
   "source": [
    "## Модель, обученная на судебных решениях с несколькими метками и выделением устойчивых выражений\n",
    "Устойчивое выражение = часто встречающиеся друг за другом слова. Использован gensim Phraser, обученный на корпусе русского языка."
   ]
  },
  {
   "cell_type": "code",
   "execution_count": 61,
   "metadata": {},
   "outputs": [],
   "source": [
    "phraser = gensim.models.phrases.Phraser.load('data/opencorpora/phraser.model')"
   ]
  },
  {
   "cell_type": "code",
   "execution_count": 62,
   "metadata": {},
   "outputs": [],
   "source": [
    "td = lambda row: gensim.models.doc2vec.TaggedDocument(\n",
    "    words=phraser[row['lemmas']], #Выделение фраз в тексте\n",
    "    tags=row['labels']\n",
    ")\n",
    "documents = df.apply(td, axis=1).tolist()"
   ]
  },
  {
   "cell_type": "code",
   "execution_count": 63,
   "metadata": {},
   "outputs": [],
   "source": [
    "model = gensim.models.doc2vec.Doc2Vec(alpha=0.025, min_alpha=0.025)  # use fixed learning rate\n",
    "model.build_vocab(documents)\n",
    "model.train(documents, total_examples=model.corpus_count, epochs=25, \n",
    "            start_alpha=0.025, end_alpha=0.02)"
   ]
  },
  {
   "cell_type": "code",
   "execution_count": 64,
   "metadata": {},
   "outputs": [],
   "source": [
    "doc_vectors = dict(zip(model.docvecs.offset2doctag, model.docvecs.vectors_docs))"
   ]
  },
  {
   "cell_type": "code",
   "execution_count": 65,
   "metadata": {},
   "outputs": [],
   "source": [
    "code['vectors'] = code['number'].map(lambda x: list(doc_vectors[x]) if x in doc_vectors else None)"
   ]
  },
  {
   "cell_type": "code",
   "execution_count": 66,
   "metadata": {},
   "outputs": [],
   "source": [
    "code.dropna(subset=['vectors']).drop(['lemmas'], axis=1)\\\n",
    "    .to_csv('results/doc2vec_multilabels_phraser.csv', index=False)"
   ]
  },
  {
   "cell_type": "code",
   "execution_count": 67,
   "metadata": {},
   "outputs": [],
   "source": [
    "from scipy.spatial.distance import cosine\n",
    "def find_nearest(vector):\n",
    "    distances = []\n",
    "    for num, v in doc_vectors.items():\n",
    "        distances.append((num, cosine(vector, v)))\n",
    "    return min(distances, key=lambda x: x[1])[0]"
   ]
  },
  {
   "cell_type": "code",
   "execution_count": 68,
   "metadata": {},
   "outputs": [],
   "source": [
    "df['vectors'] = df['lemmas'].map(lambda x: list(model.infer_vector(phraser[x], steps=25)))"
   ]
  },
  {
   "cell_type": "code",
   "execution_count": 69,
   "metadata": {},
   "outputs": [],
   "source": [
    "df['nearest'] = df['vectors'].map(find_nearest)"
   ]
  },
  {
   "cell_type": "code",
   "execution_count": 70,
   "metadata": {},
   "outputs": [],
   "source": [
    "df['res'] = df.apply(lambda row: 1 if row['nearest'] in row['labels'] else 0, axis=1)"
   ]
  },
  {
   "cell_type": "code",
   "execution_count": 71,
   "metadata": {},
   "outputs": [
    {
     "data": {
      "text/plain": [
       "0.3837917279025824"
      ]
     },
     "execution_count": 71,
     "metadata": {},
     "output_type": "execute_result"
    }
   ],
   "source": [
    "df['res'].sum() / df.shape[0]"
   ]
  },
  {
   "cell_type": "markdown",
   "metadata": {},
   "source": [
    "### Создание объединенного файла с векторами УК и предсказанными векторами судебных решений"
   ]
  },
  {
   "cell_type": "code",
   "execution_count": 72,
   "metadata": {},
   "outputs": [],
   "source": [
    "code['is_code'] = 1\n",
    "df['is_code'] = 0"
   ]
  },
  {
   "cell_type": "code",
   "execution_count": 75,
   "metadata": {},
   "outputs": [],
   "source": [
    "pd.concat([\n",
    "    code.dropna(subset=['vectors'])[['name', 'is_code', 'vectors']],\n",
    "    df[:500][['title', 'is_code', 'vectors']].rename(columns={'title':'name'})\n",
    "]).to_csv('results/doc2vec_final.csv', index=False)"
   ]
  }
 ],
 "metadata": {
  "kernelspec": {
   "display_name": "Python 3.5.2 (virtualenv)",
   "language": "python",
   "name": "py35"
  },
  "language_info": {
   "codemirror_mode": {
    "name": "ipython",
    "version": 3
   },
   "file_extension": ".py",
   "mimetype": "text/x-python",
   "name": "python",
   "nbconvert_exporter": "python",
   "pygments_lexer": "ipython3",
   "version": "3.5.2"
  }
 },
 "nbformat": 4,
 "nbformat_minor": 2
}
