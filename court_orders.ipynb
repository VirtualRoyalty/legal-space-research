{
 "cells": [
  {
   "cell_type": "code",
   "execution_count": 1,
   "metadata": {
    "collapsed": true
   },
   "outputs": [],
   "source": [
    "import pandas as pd\n",
    "from bs4 import BeautifulSoup\n",
    "import re\n",
    "from glob import glob\n",
    "from pymystem3 import Mystem\n",
    "from many_stop_words import get_stop_words"
   ]
  },
  {
   "cell_type": "code",
   "execution_count": 2,
   "metadata": {
    "collapsed": true
   },
   "outputs": [],
   "source": [
    "code = pd.read_csv('data/criminal_code.csv')"
   ]
  },
  {
   "cell_type": "code",
   "execution_count": 3,
   "metadata": {
    "collapsed": true
   },
   "outputs": [],
   "source": [
    "df = pd.DataFrame()\n",
    "for path in glob('data/spiders_data/*.jl'):\n",
    "    df = pd.concat([df, pd.read_json(path, lines=True)], ignore_index=True)"
   ]
  },
  {
   "cell_type": "code",
   "execution_count": 4,
   "metadata": {
    "collapsed": true
   },
   "outputs": [],
   "source": [
    "df['title'] = df['title'].map(lambda x: x[0])\n",
    "df['body']= df['body'].map(lambda x: x[0])"
   ]
  },
  {
   "cell_type": "code",
   "execution_count": 5,
   "metadata": {
    "collapsed": true
   },
   "outputs": [],
   "source": [
    "def parse_table(table_body):\n",
    "    data = dict()\n",
    "    for line in BeautifulSoup(table_body, 'lxml').find_all('tr'):\n",
    "        data[line.find('td').get_text()] = line.find('th').get_text()\n",
    "    return data"
   ]
  },
  {
   "cell_type": "markdown",
   "metadata": {},
   "source": [
    "Выкидываем записи с пустой таблицей метаданных:"
   ]
  },
  {
   "cell_type": "code",
   "execution_count": 6,
   "metadata": {
    "collapsed": true
   },
   "outputs": [],
   "source": [
    "df = df.drop(df[df['table'].map(lambda x: len(x)==0)].index)"
   ]
  },
  {
   "cell_type": "markdown",
   "metadata": {},
   "source": [
    "Парсим таблицу метаданных:"
   ]
  },
  {
   "cell_type": "code",
   "execution_count": 7,
   "metadata": {
    "collapsed": true
   },
   "outputs": [],
   "source": [
    "df['table'] = df['table'].map(lambda x: parse_table(x[0]))\n",
    "df = df.join(df['table'].apply(pd.Series)).drop('table', axis=1)"
   ]
  },
  {
   "cell_type": "markdown",
   "metadata": {},
   "source": [
    "Разделяем судебные решения словами `установил` <содержательная часть> `приговорил` <решение суда>"
   ]
  },
  {
   "cell_type": "code",
   "execution_count": 8,
   "metadata": {
    "collapsed": true
   },
   "outputs": [],
   "source": [
    "df_pr = df[df['body'].map(lambda text: any([phrase in re.sub(r\"\\s+\", \"\", text.lower(), flags=re.UNICODE) for phrase in ['судприговорил', 'приговорил']]))].reset_index()"
   ]
  },
  {
   "cell_type": "code",
   "execution_count": 9,
   "metadata": {
    "collapsed": true
   },
   "outputs": [],
   "source": [
    "df_pr['body'] = df_pr['body'].map(lambda text: re.sub('у\\s?с\\s?т\\s?а\\s?н\\s?о\\s?в\\s?и\\s?л', 'установил', text.lower()))"
   ]
  },
  {
   "cell_type": "code",
   "execution_count": 10,
   "metadata": {
    "collapsed": true
   },
   "outputs": [],
   "source": [
    "df_pr = df_pr[df_pr.body.str.split('установил').map(len) == 2]"
   ]
  },
  {
   "cell_type": "code",
   "execution_count": 11,
   "metadata": {
    "collapsed": true
   },
   "outputs": [],
   "source": [
    "df_pr['body'] = df_pr['body'].str.split('установил')"
   ]
  },
  {
   "cell_type": "code",
   "execution_count": 12,
   "metadata": {
    "collapsed": true
   },
   "outputs": [],
   "source": [
    "df_pr['second'] = df_pr['body'].map(lambda x: re.sub('п\\s?р\\s?и\\s?г\\s?о\\s?в\\s?о\\s?р\\s?и\\s?л', 'приговорил', x[1]))"
   ]
  },
  {
   "cell_type": "code",
   "execution_count": 13,
   "metadata": {
    "collapsed": true
   },
   "outputs": [],
   "source": [
    "df_pr = df_pr[df_pr['second'].str.split('приговорил').map(len) == 2]"
   ]
  },
  {
   "cell_type": "code",
   "execution_count": 14,
   "metadata": {
    "collapsed": true
   },
   "outputs": [],
   "source": [
    "df_pr['case'], df_pr['result'] = df_pr['second'].map(lambda text: text.replace(':','').split('приговорил')).str"
   ]
  },
  {
   "cell_type": "markdown",
   "metadata": {},
   "source": [
    "Из решения суда выделяем номера статей кодекса:"
   ]
  },
  {
   "cell_type": "code",
   "execution_count": 15,
   "metadata": {
    "collapsed": true
   },
   "outputs": [],
   "source": [
    "pattern = re.compile(r'(статьей|ст\\.|статьи)\\s*(\\d+\\.?\\d*)')\n",
    "df_pr['labels'] = df_pr['result'].map(lambda text: list(map(lambda x: float(x[1]), re.findall(pattern, text))))"
   ]
  },
  {
   "cell_type": "markdown",
   "metadata": {},
   "source": [
    "Оставляем только те статьи кодекса, которые мы знаем:"
   ]
  },
  {
   "cell_type": "code",
   "execution_count": 16,
   "metadata": {
    "collapsed": true
   },
   "outputs": [],
   "source": [
    "df_pr['labels'] = df_pr['labels'].map(lambda arr: list(filter(lambda x: x in code['number'].tolist(), arr)))"
   ]
  },
  {
   "cell_type": "code",
   "execution_count": 17,
   "metadata": {
    "collapsed": true
   },
   "outputs": [],
   "source": [
    "df_pr = df_pr[df_pr['labels'].map(len) != 0]"
   ]
  },
  {
   "cell_type": "code",
   "execution_count": 18,
   "metadata": {
    "collapsed": true
   },
   "outputs": [],
   "source": [
    "df_pr['case'] = df_pr['case'].str.strip()"
   ]
  },
  {
   "cell_type": "code",
   "execution_count": 19,
   "metadata": {
    "collapsed": true
   },
   "outputs": [],
   "source": [
    "df_pr = df_pr[['title', 'Категория', 'Дата', 'Регион', 'Суд', 'Судья', 'second', 'case', 'result', 'labels']].rename(columns={\n",
    "    'Категория':'category',\n",
    "    'Дата':'date',\n",
    "    'Регион':'region',\n",
    "    'Суд':'court',\n",
    "    'Судья': 'judge',\n",
    "    'second': 'description',\n",
    "    'case': 'reasoning'\n",
    "})"
   ]
  },
  {
   "cell_type": "code",
   "execution_count": 20,
   "metadata": {
    "scrolled": true
   },
   "outputs": [
    {
     "name": "stdout",
     "output_type": "stream",
     "text": [
      "Количество судебных решений  9533\n"
     ]
    }
   ],
   "source": [
    "print('Количество судебных решений ', df_pr.shape[0])"
   ]
  },
  {
   "cell_type": "code",
   "execution_count": 21,
   "metadata": {
    "collapsed": true
   },
   "outputs": [],
   "source": [
    "df_pr.to_csv('data/judicial_orders.csv', index=False)"
   ]
  },
  {
   "cell_type": "code",
   "execution_count": 22,
   "metadata": {
    "collapsed": true
   },
   "outputs": [],
   "source": [
    "m = Mystem(entire_input=False)\n",
    "ru_stopwords= get_stop_words('ru')"
   ]
  },
  {
   "cell_type": "code",
   "execution_count": 23,
   "metadata": {
    "collapsed": true
   },
   "outputs": [],
   "source": [
    "df_pr['lemmas'] = df_pr['reasoning'].map(lambda text: list(filter(lambda word: word not in ru_stopwords and len(word) > 3, m.lemmatize(text))))\n",
    "df_pr[['title', 'lemmas', 'labels']].to_csv('data/judicial_orders_lemmas.csv', index=False)"
   ]
  }
 ],
 "metadata": {
  "kernelspec": {
   "display_name": "Python 3.5.2 (virtualenv)",
   "language": "python",
   "name": "py35"
  },
  "language_info": {
   "codemirror_mode": {
    "name": "ipython",
    "version": 3
   },
   "file_extension": ".py",
   "mimetype": "text/x-python",
   "name": "python",
   "nbconvert_exporter": "python",
   "pygments_lexer": "ipython3",
   "version": "3.5.2"
  }
 },
 "nbformat": 4,
 "nbformat_minor": 2
}
