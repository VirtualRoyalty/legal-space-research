{
 "cells": [
  {
   "cell_type": "code",
   "execution_count": 1,
   "metadata": {
    "collapsed": true
   },
   "outputs": [],
   "source": [
    "import pandas as pd\n",
    "from bs4 import BeautifulSoup\n",
    "import re\n",
    "from glob import glob\n",
    "from pymystem3 import Mystem\n",
    "from many_stop_words import get_stop_words"
   ]
  },
  {
   "cell_type": "code",
   "execution_count": 2,
   "metadata": {
    "collapsed": true
   },
   "outputs": [],
   "source": [
    "code = pd.read_csv('data/criminal_code.csv')"
   ]
  },
  {
   "cell_type": "code",
   "execution_count": 3,
   "metadata": {
    "collapsed": true
   },
   "outputs": [],
   "source": [
    "df = pd.DataFrame()\n",
    "for path in glob('data/spiders_data/*.jl'):\n",
    "    df = pd.concat([df, pd.read_json(path, lines=True)], ignore_index=True)"
   ]
  },
  {
   "cell_type": "code",
   "execution_count": 4,
   "metadata": {
    "collapsed": true
   },
   "outputs": [],
   "source": [
    "df['title'] = df['title'].map(lambda x: x[0])\n",
    "df['body']= df['body'].map(lambda x: x[0])"
   ]
  },
  {
   "cell_type": "code",
   "execution_count": 5,
   "metadata": {
    "collapsed": true
   },
   "outputs": [],
   "source": [
    "def parse_table(table_body):\n",
    "    data = dict()\n",
    "    for line in BeautifulSoup(table_body, 'lxml').find_all('tr'):\n",
    "        data[line.find('td').get_text()] = line.find('th').get_text()\n",
    "    return data"
   ]
  },
  {
   "cell_type": "markdown",
   "metadata": {},
   "source": [
    "Выкидываем записи с пустой таблицей метаданных:"
   ]
  },
  {
   "cell_type": "code",
   "execution_count": 6,
   "metadata": {
    "collapsed": true
   },
   "outputs": [],
   "source": [
    "df = df.drop(df[df['table'].map(lambda x: len(x)==0)].index)"
   ]
  },
  {
   "cell_type": "markdown",
   "metadata": {},
   "source": [
    "Парсим таблицу метаданных:"
   ]
  },
  {
   "cell_type": "code",
   "execution_count": 7,
   "metadata": {
    "collapsed": true
   },
   "outputs": [],
   "source": [
    "df['table'] = df['table'].map(lambda x: parse_table(x[0]))\n",
    "df = df.join(df['table'].apply(pd.Series)).drop('table', axis=1)"
   ]
  },
  {
   "cell_type": "markdown",
   "metadata": {},
   "source": [
    "Фильтруем только статьи с вынесением приговора:"
   ]
  },
  {
   "cell_type": "code",
   "execution_count": 8,
   "metadata": {},
   "outputs": [],
   "source": [
    "only_guilty = lambda text: any([phrase in re.sub(r\"\\s+\", \"\", text.lower(), flags=re.UNICODE)\n",
    "                                for phrase in ['судприговорил', 'приговорил']])\n",
    "df = df[df['body'].map(only_guilty)].reset_index(drop=True)"
   ]
  },
  {
   "cell_type": "markdown",
   "metadata": {},
   "source": [
    "Очищаем текст от элементов анонимизации (напр. `дд.мм.гггг` или `<адрес>`)"
   ]
  },
  {
   "cell_type": "code",
   "execution_count": 9,
   "metadata": {},
   "outputs": [],
   "source": [
    "filter_pattern = re.compile(r'<.*?>|дд\\.мм\\.гггг|-|\\*')\n",
    "filter_and_lower = lambda s: re.sub(filter_pattern, '', s.lower()).strip()"
   ]
  },
  {
   "cell_type": "code",
   "execution_count": 10,
   "metadata": {},
   "outputs": [],
   "source": [
    "df['body'] = df['body'].map(filter_and_lower)"
   ]
  },
  {
   "cell_type": "markdown",
   "metadata": {},
   "source": [
    "Разделяем судебные решения словами `установил` <содержательная часть> `приговорил` <решение суда>"
   ]
  },
  {
   "cell_type": "code",
   "execution_count": 11,
   "metadata": {},
   "outputs": [],
   "source": [
    "def split_body(text, split_pattern):\n",
    "    def fix_keywords(text):\n",
    "        text = text.lower()\n",
    "        text = re.sub('у\\s?с\\s?т\\s?а\\s?н\\s?о\\s?в\\s?и\\s?л', 'установил', text)\n",
    "        text = re.sub('п\\s?р\\s?и\\s?г\\s?о\\s?в\\s?о\\s?р\\s?и\\s?л', 'приговорил', text)  \n",
    "        return text\n",
    "\n",
    "    return re.split(split_pattern, fix_keywords(text))"
   ]
  },
  {
   "cell_type": "code",
   "execution_count": 12,
   "metadata": {},
   "outputs": [],
   "source": [
    "df['body'] = df['body'].map(lambda doc: split_body(doc, re.compile(r'приговорил|установил')))"
   ]
  },
  {
   "cell_type": "code",
   "execution_count": 13,
   "metadata": {},
   "outputs": [],
   "source": [
    "df = df.drop(df[df['body'].map(len) != 3].index)\n",
    "df = df.reset_index(drop=True)"
   ]
  },
  {
   "cell_type": "code",
   "execution_count": 14,
   "metadata": {},
   "outputs": [],
   "source": [
    "df['intro'], df['case'], df['result'] =  df['body'].str"
   ]
  },
  {
   "cell_type": "markdown",
   "metadata": {},
   "source": [
    "Из решения суда выделяем номера статей кодекса:"
   ]
  },
  {
   "cell_type": "code",
   "execution_count": 15,
   "metadata": {
    "collapsed": true
   },
   "outputs": [],
   "source": [
    "pattern = re.compile(r'(статьей|ст\\.|статьи)\\s*(\\d+\\.?\\d*)')\n",
    "select_cc = lambda text: list(map(lambda x: float(x[1]), re.findall(pattern, text)))\n",
    "df['labels'] = df['result'].map(select_cc)"
   ]
  },
  {
   "cell_type": "code",
   "execution_count": 16,
   "metadata": {},
   "outputs": [],
   "source": [
    "df = df[df['labels'].map(len) != 0]"
   ]
  },
  {
   "cell_type": "markdown",
   "metadata": {},
   "source": [
    "Оставляем только те статьи кодекса, которые мы знаем:"
   ]
  },
  {
   "cell_type": "code",
   "execution_count": 17,
   "metadata": {
    "collapsed": true
   },
   "outputs": [],
   "source": [
    "only_known = lambda arr: list(filter(lambda x: x in code['number'].tolist(), arr))\n",
    "df['labels'] = df['labels'].map(only_known)"
   ]
  },
  {
   "cell_type": "code",
   "execution_count": 18,
   "metadata": {
    "collapsed": true
   },
   "outputs": [],
   "source": [
    "df = df[df['labels'].map(len) != 0]"
   ]
  },
  {
   "cell_type": "code",
   "execution_count": 24,
   "metadata": {
    "collapsed": true
   },
   "outputs": [],
   "source": [
    "df = df.rename(columns={\n",
    "    'Категория':'category',\n",
    "    'Дата':'date',\n",
    "    'Регион':'region',\n",
    "    'Суд':'court',\n",
    "    'Судья': 'judge',\n",
    "})\n",
    "df = df[['title', 'date', 'category', 'region', 'court', 'judge', \n",
    "         'intro', 'case', 'result', 'labels']]"
   ]
  },
  {
   "cell_type": "code",
   "execution_count": 21,
   "metadata": {
    "scrolled": true
   },
   "outputs": [
    {
     "name": "stdout",
     "output_type": "stream",
     "text": [
      "Количество судебных решений  9526\n"
     ]
    }
   ],
   "source": [
    "print('Количество судебных решений ', df.shape[0])"
   ]
  },
  {
   "cell_type": "code",
   "execution_count": 27,
   "metadata": {
    "collapsed": true
   },
   "outputs": [],
   "source": [
    "m = Mystem(entire_input=False)\n",
    "ru_stopwords= get_stop_words('ru')"
   ]
  },
  {
   "cell_type": "code",
   "execution_count": 30,
   "metadata": {},
   "outputs": [],
   "source": [
    "def lemm_and_filter(text):\n",
    "    lemmas = m.lemmatize(text)\n",
    "    filter_cond = lambda word: word not in ru_stopwords and len(word) > 3\n",
    "    return list(filter(filter_cond, lemmas))"
   ]
  },
  {
   "cell_type": "code",
   "execution_count": 31,
   "metadata": {
    "collapsed": true
   },
   "outputs": [],
   "source": [
    "df['lemmas'] = df['case'].map(lemm_and_filter)"
   ]
  },
  {
   "cell_type": "code",
   "execution_count": 36,
   "metadata": {},
   "outputs": [],
   "source": [
    "df.to_csv('data/judicial_orders.csv', index=False)"
   ]
  }
 ],
 "metadata": {
  "kernelspec": {
   "display_name": "Python 3.5.2 (virtualenv)",
   "language": "python",
   "name": "py35"
  },
  "language_info": {
   "codemirror_mode": {
    "name": "ipython",
    "version": 3
   },
   "file_extension": ".py",
   "mimetype": "text/x-python",
   "name": "python",
   "nbconvert_exporter": "python",
   "pygments_lexer": "ipython3",
   "version": "3.5.2"
  }
 },
 "nbformat": 4,
 "nbformat_minor": 2
}
