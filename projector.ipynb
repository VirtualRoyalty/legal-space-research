{
 "cells": [
  {
   "cell_type": "code",
   "execution_count": 1,
   "metadata": {},
   "outputs": [
    {
     "name": "stdout",
     "output_type": "stream",
     "text": [
      "WARNING:tensorflow:From /home/gzhigalov/py35/lib/python3.5/site-packages/tensorflow/contrib/learn/python/learn/datasets/base.py:198: retry (from tensorflow.contrib.learn.python.learn.datasets.base) is deprecated and will be removed in a future version.\n",
      "Instructions for updating:\n",
      "Use the retry module or similar alternatives.\n"
     ]
    }
   ],
   "source": [
    "from glob import glob\n",
    "import os\n",
    "import csv\n",
    "import pandas as pd\n",
    "import tensorflow as tf\n",
    "from tensorflow.contrib.tensorboard.plugins import projector"
   ]
  },
  {
   "cell_type": "code",
   "execution_count": 2,
   "metadata": {},
   "outputs": [],
   "source": [
    "tf.reset_default_graph()\n",
    "\n",
    "files = glob('results/*.csv')\n",
    "LOG_DIR = 'tensorboard'\n",
    "emb = []\n",
    "for FPATH in files:\n",
    "    NAME = FPATH.split('/')[-1].split('.')[0]\n",
    "    df = pd.read_csv(FPATH)\n",
    "    df['vectors'] = df['vectors'].map(eval)\n",
    "    features = tf.Variable(df['vectors'].tolist(), name=NAME)\n",
    "    emb.append(features)"
   ]
  },
  {
   "cell_type": "code",
   "execution_count": 6,
   "metadata": {},
   "outputs": [],
   "source": [
    "with tf.Session() as sess:\n",
    "    saver = tf.train.Saver()\n",
    "    sess.run(tf.global_variables_initializer())\n",
    "    saver.save(sess, os.path.join(LOG_DIR, 'emb.ckpt'))\n",
    "    \n",
    "    config = projector.ProjectorConfig()\n",
    "    for i, FPATH in enumerate(files):\n",
    "        embedding = config.embeddings.add()\n",
    "        embedding.tensor_name = emb[i].name\n",
    "        metadata_path = '{}.tsv'.format(FPATH.split('/')[-1].split('.')[0])\n",
    "        pd.read_csv(FPATH).drop(['vectors'], axis=1)\\\n",
    "        .to_csv(os.path.join(LOG_DIR, metadata_path), sep='\\t',index=False, quoting=csv.QUOTE_NONE)\n",
    "        embedding.metadata_path = metadata_path\n",
    "    \n",
    "    projector.visualize_embeddings(tf.summary.FileWriter(LOG_DIR), config)"
   ]
  }
 ],
 "metadata": {
  "kernelspec": {
   "display_name": "Python 3.5.2 (virtualenv)",
   "language": "python",
   "name": "py35"
  },
  "language_info": {
   "codemirror_mode": {
    "name": "ipython",
    "version": 3
   },
   "file_extension": ".py",
   "mimetype": "text/x-python",
   "name": "python",
   "nbconvert_exporter": "python",
   "pygments_lexer": "ipython3",
   "version": "3.5.2"
  }
 },
 "nbformat": 4,
 "nbformat_minor": 2
}
