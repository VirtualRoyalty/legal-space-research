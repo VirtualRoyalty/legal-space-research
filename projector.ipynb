{
 "cells": [
  {
   "cell_type": "code",
   "execution_count": 35,
   "metadata": {},
   "outputs": [],
   "source": [
    "from glob import glob\n",
    "import os\n",
    "import csv\n",
    "import pandas as pd\n",
    "import tensorflow as tf\n",
    "from tensorflow.contrib.tensorboard.plugins import projector"
   ]
  },
  {
   "cell_type": "code",
   "execution_count": 36,
   "metadata": {},
   "outputs": [
    {
     "name": "stdout",
     "output_type": "stream",
     "text": [
      "results/doc2vec_with_opencorpora.csv\n",
      "results/doc2vec_phrases.csv\n",
      "results/doc2vec_light.csv\n",
      "results/doc2vec_all.csv\n",
      "results/doc2vec_phrases_light.csv\n"
     ]
    }
   ],
   "source": [
    "tf.reset_default_graph()\n",
    "\n",
    "files = glob('results/*.csv')\n",
    "LOG_DIR = 'tensorboard'\n",
    "emb = []\n",
    "for FPATH in files:\n",
    "    print(FPATH)\n",
    "    NAME = FPATH.split('/')[-1].split('.')[0]\n",
    "    df = pd.read_csv(FPATH)\n",
    "    df['vectors'] = df['vectors'].map(eval)\n",
    "    features = tf.Variable(df['vectors'].tolist(), name=NAME)\n",
    "    emb.append(features)"
   ]
  },
  {
   "cell_type": "code",
   "execution_count": 37,
   "metadata": {},
   "outputs": [
    {
     "name": "stdout",
     "output_type": "stream",
     "text": [
      "results/doc2vec_with_opencorpora.csv\n",
      "results/doc2vec_phrases.csv\n",
      "results/doc2vec_light.csv\n",
      "results/doc2vec_all.csv\n",
      "results/doc2vec_phrases_light.csv\n"
     ]
    }
   ],
   "source": [
    "with tf.Session() as sess:\n",
    "    saver = tf.train.Saver()\n",
    "    sess.run(tf.global_variables_initializer())\n",
    "    saver.save(sess, os.path.join(LOG_DIR, 'emb.ckpt'))\n",
    "    \n",
    "    config = projector.ProjectorConfig()\n",
    "    for i, FPATH in enumerate(files):\n",
    "        embedding = config.embeddings.add()\n",
    "        embedding.tensor_name = emb[i].name\n",
    "        metadata_path = '{}.tsv'.format(FPATH.split('/')[-1].split('.')[0])\n",
    "        print(FPATH)\n",
    "        pd.read_csv(FPATH).drop(['vectors'], axis=1)\\\n",
    "        .to_csv(os.path.join(LOG_DIR, metadata_path), sep='\\t', index=False, escapechar='\\\\', quoting=csv.QUOTE_NONE)\n",
    "        embedding.metadata_path = metadata_path\n",
    "    \n",
    "    projector.visualize_embeddings(tf.summary.FileWriter(LOG_DIR), config)"
   ]
  }
 ],
 "metadata": {
  "kernelspec": {
   "display_name": "cc_env",
   "language": "python",
   "name": "cc_env"
  },
  "language_info": {
   "codemirror_mode": {
    "name": "ipython",
    "version": 3
   },
   "file_extension": ".py",
   "mimetype": "text/x-python",
   "name": "python",
   "nbconvert_exporter": "python",
   "pygments_lexer": "ipython3",
   "version": "3.6.4"
  }
 },
 "nbformat": 4,
 "nbformat_minor": 2
}
