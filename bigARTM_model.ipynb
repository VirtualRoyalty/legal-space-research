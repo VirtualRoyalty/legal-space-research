{
 "cells": [
  {
   "cell_type": "code",
   "execution_count": 1,
   "metadata": {},
   "outputs": [],
   "source": [
    "import artm\n",
    "import os\n",
    "import matplotlib.pyplot as plt\n",
    "%matplotlib inline"
   ]
  },
  {
   "cell_type": "code",
   "execution_count": 2,
   "metadata": {},
   "outputs": [],
   "source": [
    "batch_vectorizer = artm.BatchVectorizer(data_format='vowpal_wabbit', data_path='vw.txt', \n",
    "                                        target_folder='data/batches', collection_name='criminal_code')"
   ]
  },
  {
   "cell_type": "code",
   "execution_count": 3,
   "metadata": {},
   "outputs": [],
   "source": [
    "dictionary = artm.Dictionary()"
   ]
  },
  {
   "cell_type": "code",
   "execution_count": 4,
   "metadata": {},
   "outputs": [],
   "source": [
    "model_artm = artm.ARTM(topic_names=['topic_{}'.format(i) for i in range(33)],\n",
    "                       scores=[artm.PerplexityScore(name='PerplexityScore', dictionary=dictionary)],\n",
    "                       regularizers=[artm.SmoothSparseThetaRegularizer(name='SparseTheta', tau=-0.15)], cache_theta=True)"
   ]
  },
  {
   "cell_type": "code",
   "execution_count": 5,
   "metadata": {},
   "outputs": [],
   "source": [
    "if not os.path.isfile('data/dictionary.dict'):\n",
    "    dictionary.gather(data_path=batch_vectorizer.data_path)\n",
    "    dictionary.save(dictionary_path='data/dictionary.dict')\n",
    "dictionary.load(dictionary_path='data/dictionary.dict')"
   ]
  },
  {
   "cell_type": "code",
   "execution_count": 6,
   "metadata": {},
   "outputs": [],
   "source": [
    "model_artm.initialize(dictionary=dictionary)"
   ]
  },
  {
   "cell_type": "code",
   "execution_count": 7,
   "metadata": {},
   "outputs": [],
   "source": [
    "model_artm.scores.add(artm.SparsityPhiScore(name='SparsityPhiScore'))\n",
    "model_artm.scores.add(artm.SparsityThetaScore(name='SparsityThetaScore'))\n",
    "model_artm.scores.add(artm.TopicKernelScore(name='TopicKernelScore', probability_mass_threshold=0.3))"
   ]
  },
  {
   "cell_type": "code",
   "execution_count": 8,
   "metadata": {},
   "outputs": [],
   "source": [
    "model_artm.regularizers.add(artm.SmoothSparsePhiRegularizer(name='SparsePhi', tau=-0.1))\n",
    "model_artm.regularizers.add(artm.DecorrelatorPhiRegularizer(name='DecorrelatorPhi', tau=1.5e+5))"
   ]
  },
  {
   "cell_type": "code",
   "execution_count": 9,
   "metadata": {},
   "outputs": [],
   "source": [
    "model_artm.regularizers['SparsePhi'].tau = -0.2\n",
    "model_artm.regularizers['SparseTheta'].tau = -0.2\n",
    "model_artm.regularizers['DecorrelatorPhi'].tau = 2.5e+5\n",
    "model_artm.scores.add(artm.TopTokensScore(name='TopTokensScore', num_tokens=6))"
   ]
  },
  {
   "cell_type": "code",
   "execution_count": 10,
   "metadata": {},
   "outputs": [],
   "source": [
    "model_artm.fit_offline(batch_vectorizer=batch_vectorizer, num_collection_passes=20)"
   ]
  },
  {
   "cell_type": "code",
   "execution_count": 11,
   "metadata": {},
   "outputs": [
    {
     "name": "stdout",
     "output_type": "stream",
     "text": [
      "Sparsity Phi: 0.999\n",
      "Sparsity Theta: 0.936\n",
      "Kernel contrast: 0.545\n",
      "Kernel purity: 0.545\n",
      "Perplexity: 314.626\n"
     ]
    },
    {
     "data": {
      "image/png": "[encoded data removed]",
      "text/plain": [
       "<matplotlib.figure.Figure at 0x7fc768c2ce80>"
      ]
     },
     "metadata": {},
     "output_type": "display_data"
    }
   ],
   "source": [
    "def print_measures(model_artm):\n",
    "    print('Sparsity Phi: {0:.3f}'.format(model_artm.score_tracker['SparsityPhiScore'].last_value))\n",
    "\n",
    "    print('Sparsity Theta: {0:.3f}'.format(model_artm.score_tracker['SparsityThetaScore'].last_value))\n",
    "\n",
    "    print('Kernel contrast: {0:.3f}'.format(\n",
    "        model_artm.score_tracker['TopicKernelScore'].last_average_contrast))\n",
    "\n",
    "    print('Kernel purity: {0:.3f}'.format(\n",
    "        model_artm.score_tracker['TopicKernelScore'].last_average_purity))\n",
    "\n",
    "    print('Perplexity: {0:.3f}'.format(\n",
    "        model_artm.score_tracker['PerplexityScore'].last_value))\n",
    "\n",
    "    plt.plot(range(model_artm.num_phi_updates), model_artm.score_tracker['PerplexityScore'].value, 'r--', linewidth=2)\n",
    "    plt.xlabel('Iterations count')\n",
    "    plt.ylabel('ARTM perp.')\n",
    "    plt.grid(True)\n",
    "    plt.show()\n",
    "    \n",
    "print_measures(model_artm)"
   ]
  },
  {
   "cell_type": "code",
   "execution_count": 19,
   "metadata": {},
   "outputs": [
    {
     "name": "stdout",
     "output_type": "stream",
     "text": [
      "topic_27: представление, условный, применяться\n",
      "topic_10: экстремистский\n",
      "topic_21: положение, служебный, угроза, должностной, указанный, опасный\n",
      "topic_32: объект, наследие, реестр, владелец, единый, конфискация\n",
      "topic_17: правило, акт, валюта, родитель, удостоверять, причина\n",
      "topic_11: прекурсор\n",
      "topic_7: запрещать, четырнадцатилетний\n",
      "topic_0: основной, наркомания, реабилитация\n",
      "topic_25: референдум, условие\n",
      "topic_15: помощь, марка, стационарный, маркировка, акцизный\n",
      "topic_30: получение, требование, распространение, признак, принуждение, информационный\n",
      "topic_8: особенный, совокупность, строгий, смертный, казнь, максимальный\n",
      "topic_9: самоубийство\n",
      "topic_28: иностранный, воспитательный, гражданство, превышение\n",
      "topic_1: добровольно, хищение, растение, вымогательство, дача, полтора\n",
      "topic_29: террористический\n",
      "topic_13: место, дисциплинарный, военнослужащий, призыв, давность, прохождение\n",
      "topic_12: условно, учреждение, оказывать, освобождение, половой\n"
     ]
    }
   ],
   "source": [
    "for topic_name in model_artm.score_tracker['TopTokensScore'].last_tokens:\n",
    "    print(topic_name + ':', end=' '),\n",
    "    print(', '.join(model_artm.score_tracker['TopTokensScore'].last_tokens[topic_name]))"
   ]
  },
  {
   "cell_type": "code",
   "execution_count": null,
   "metadata": {},
   "outputs": [],
   "source": []
  },
  {
   "cell_type": "code",
   "execution_count": null,
   "metadata": {},
   "outputs": [],
   "source": []
  }
 ],
 "metadata": {
  "kernelspec": {
   "display_name": "Python 3.5.2 (BigARTM)",
   "language": "python",
   "name": "bigartm"
  },
  "language_info": {
   "codemirror_mode": {
    "name": "ipython",
    "version": 3
   },
   "file_extension": ".py",
   "mimetype": "text/x-python",
   "name": "python",
   "nbconvert_exporter": "python",
   "pygments_lexer": "ipython3",
   "version": "3.5.2"
  }
 },
 "nbformat": 4,
 "nbformat_minor": 2
}
