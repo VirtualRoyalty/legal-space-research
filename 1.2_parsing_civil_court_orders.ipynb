{
 "cells": [
  {
   "cell_type": "code",
   "execution_count": 1,
   "metadata": {},
   "outputs": [],
   "source": [
    "import pandas as pd\n",
    "import re\n",
    "from pymystem3 import Mystem\n",
    "from many_stop_words import get_stop_words"
   ]
  },
  {
   "cell_type": "code",
   "execution_count": 2,
   "metadata": {},
   "outputs": [],
   "source": [
    "df = pd.read_csv('data/civil_code/court_orders.csv.gz', compression='gzip')"
   ]
  },
  {
   "cell_type": "code",
   "execution_count": 3,
   "metadata": {},
   "outputs": [],
   "source": [
    "patt = re.compile(r'((<данные изъяты>)|(<адрес>)|(ДД\\.ММ\\.ГГГГ)|(ФИО\\d+)|(---))')"
   ]
  },
  {
   "cell_type": "code",
   "execution_count": 4,
   "metadata": {},
   "outputs": [],
   "source": [
    "df['lemmas'] = df['text'].map(lambda text: re.sub(patt, ' ', text))"
   ]
  },
  {
   "cell_type": "code",
   "execution_count": 5,
   "metadata": {},
   "outputs": [],
   "source": [
    "def split_body(text, split_pattern):\n",
    "    def fix_keywords(text):\n",
    "        text = text.lower()\n",
    "        text = re.sub('р\\s?е\\s?ш\\s?и\\s?л', 'решил', text)\n",
    "        text = re.sub('о\\s?п\\s?р\\s?е\\s?д\\s?е\\s?л\\s?и\\s?л', 'определил', text)\n",
    "        return text\n",
    "    return re.split(split_pattern, fix_keywords(text))"
   ]
  },
  {
   "cell_type": "code",
   "execution_count": 6,
   "metadata": {},
   "outputs": [],
   "source": [
    "## bad code warning\n",
    "split_pattern = re.compile(r'суд[ья]*[\\s|,]+(определил|решил):')\n",
    "df['parts'] = df['lemmas'].map(lambda doc: split_body(doc, split_pattern))\n",
    "res = df[df['parts'].map(len) == 3]['parts'].map(lambda x: (x[0], x[-1])).apply(pd.Series).rename(columns={0:'description', 1:'resolution'})\n",
    "df = df.join(res, how='inner').reset_index(drop=True)"
   ]
  },
  {
   "cell_type": "code",
   "execution_count": 7,
   "metadata": {},
   "outputs": [],
   "source": [
    "rubles_pattern = re.compile(r\"(\\d[\\d ]+)руб[лейя]+\")\n",
    "\n",
    "df['money'] = df['resolution'].map(lambda text: list(map(lambda x: int(''.join(x.split())), re.findall(rubles_pattern, text))))"
   ]
  },
  {
   "cell_type": "code",
   "execution_count": 8,
   "metadata": {},
   "outputs": [],
   "source": [
    "df = df.drop('parts', axis=1)"
   ]
  },
  {
   "cell_type": "code",
   "execution_count": 9,
   "metadata": {},
   "outputs": [],
   "source": [
    "art_pattern = re.compile(r\"(статьей|ст\\.|статьи)\\s*(\\d+\\.?\\d*)\")\n",
    "df['descr_articles'] = df['description'].map(lambda text: list(map(lambda x: x[1], re.findall(art_pattern, text))))"
   ]
  },
  {
   "cell_type": "code",
   "execution_count": 10,
   "metadata": {},
   "outputs": [],
   "source": [
    "df['description'] = df['description'].map(lambda text: ' '.join(re.sub(art_pattern, ' ', text).split()))"
   ]
  },
  {
   "cell_type": "code",
   "execution_count": 11,
   "metadata": {},
   "outputs": [],
   "source": [
    "def lemm_and_filter(text, min_len=3, stopwords=get_stop_words('ru'), stem=Mystem(entire_input=False)):\n",
    "    return ' '.join(list(filter(lambda word: word not in stopwords and len(word) > min_len, stem.lemmatize(text))))"
   ]
  },
  {
   "cell_type": "code",
   "execution_count": 12,
   "metadata": {},
   "outputs": [],
   "source": [
    "df['lemmas'] = df['description'].map(lemm_and_filter)"
   ]
  },
  {
   "cell_type": "code",
   "execution_count": 34,
   "metadata": {},
   "outputs": [],
   "source": [
    "res = df[['text', 'description', 'resolution', 'lemmas', 'result', 'money', 'descr_articles']]"
   ]
  },
  {
   "cell_type": "code",
   "execution_count": 36,
   "metadata": {},
   "outputs": [],
   "source": [
    "res.to_csv('tmp/civil_code_court_orders.csv.gz', compression='gzip')"
   ]
  }
 ],
 "metadata": {
  "kernelspec": {
   "display_name": "diploma",
   "language": "python",
   "name": "diploma"
  },
  "language_info": {
   "codemirror_mode": {
    "name": "ipython",
    "version": 3
   },
   "file_extension": ".py",
   "mimetype": "text/x-python",
   "name": "python",
   "nbconvert_exporter": "python",
   "pygments_lexer": "ipython3",
   "version": "3.6.4"
  }
 },
 "nbformat": 4,
 "nbformat_minor": 2
}
