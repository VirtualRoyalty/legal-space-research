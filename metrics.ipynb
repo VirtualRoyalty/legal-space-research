{
 "cells": [
  {
   "cell_type": "code",
   "execution_count": 169,
   "metadata": {},
   "outputs": [],
   "source": [
    "import gensim\n",
    "from gensim.models.phrases import Phraser\n",
    "\n",
    "import pymystem3\n",
    "import pandas as pd\n",
    "import scipy.spatial as spatial\n",
    "from sklearn.model_selection import train_test_split\n",
    "import matplotlib.pyplot as plt"
   ]
  },
  {
   "cell_type": "code",
   "execution_count": 32,
   "metadata": {},
   "outputs": [],
   "source": [
    "oc = pd.read_csv('tmp/opencorpora.csv.gz', compression='gzip')\n",
    "criminal_code = pd.read_csv('tmp/vectors/criminal_code.csv.gz', compression='gzip')\n",
    "criminal_court_orders = pd.read_csv('tmp/vectors/criminal_court_orders.csv.gz', compression='gzip')\n",
    "civil_code = pd.read_csv('tmp/vectors/civil_code.csv.gz', compression='gzip')\n",
    "civil_court_orders = pd.read_csv('tmp/vectors/civil_court_orders.csv.gz', compression='gzip')\n",
    "\n",
    "oc['source'] = 'opencorpora'\n",
    "criminal_code['source'] = 'criminal_code'\n",
    "criminal_court_orders['source'] = 'criminal_court_orders'\n",
    "civil_code['source'] = 'civil_code'\n",
    "civil_court_orders['source'] = 'civil_court_orders'\n",
    "\n",
    "criminal_code['name'] = criminal_code.apply(lambda x: \"Ст.{} {}\".format(x['article_number'], x['article_name']), axis=1)\n",
    "civil_code['name'] = civil_code.apply(lambda x: \"Ст.{} {}\".format(x['article_number'], x['article_name']), axis=1)\n",
    "\n",
    "civil_court_orders['name'] = [\"Гражд. дело {}\".format(i) for i in range(civil_court_orders.shape[0])]"
   ]
  },
  {
   "cell_type": "code",
   "execution_count": 33,
   "metadata": {},
   "outputs": [],
   "source": [
    "tmp = pd.concat([\n",
    "    oc.reset_index()[['index', 'title', 'lemmas', 'source']].rename(columns={'title':'name'}), \n",
    "    criminal_code.reset_index()[['index', 'name', 'lemmas', 'source']],\n",
    "    criminal_court_orders.reset_index()[['index', 'title', 'lemmas',  'source']].rename(columns={'title':'name'}),\n",
    "    civil_code.reset_index()[['index', 'name', 'lemmas', 'source']],\n",
    "    civil_court_orders.reset_index()[['index', 'name', 'lemmas', 'source']],\n",
    "]).reset_index(drop=True)"
   ]
  },
  {
   "cell_type": "code",
   "execution_count": 38,
   "metadata": {},
   "outputs": [
    {
     "name": "stdout",
     "output_type": "stream",
     "text": [
      "CPU times: user 54.2 s, sys: 2.56 s, total: 56.7 s\n",
      "Wall time: 56.8 s\n"
     ]
    }
   ],
   "source": [
    "%%time\n",
    "phraser = gensim.models.phrases.Phraser(gensim.models.phrases.Phrases(sentences=tmp['lemmas'].str.split()))"
   ]
  },
  {
   "cell_type": "code",
   "execution_count": 39,
   "metadata": {},
   "outputs": [],
   "source": [
    "criminal_court_orders_train, criminal_court_orders_test = train_test_split(criminal_court_orders, test_size=0.33, random_state=42)"
   ]
  },
  {
   "cell_type": "code",
   "execution_count": 40,
   "metadata": {},
   "outputs": [],
   "source": [
    "tmp = pd.concat([\n",
    "    oc.reset_index()[['index', 'title', 'lemmas', 'source']].rename(columns={'title':'name'}), \n",
    "    criminal_code.reset_index()[['index', 'name', 'lemmas', 'source']],\n",
    "    criminal_court_orders_train.reset_index()[['index', 'title', 'lemmas',  'source']].rename(columns={'title':'name'}),\n",
    "    civil_code.reset_index()[['index', 'name', 'lemmas', 'source']],\n",
    "    civil_court_orders.reset_index()[['index', 'name', 'lemmas', 'source']],\n",
    "]).reset_index(drop=True)"
   ]
  },
  {
   "cell_type": "code",
   "execution_count": 48,
   "metadata": {},
   "outputs": [],
   "source": [
    "gensim.utils.save_as_line_sentence(tmp['lemmas'].map(lambda x: phraser[x.split()]), 'tmp/metrics/phrased.txt')"
   ]
  },
  {
   "cell_type": "code",
   "execution_count": null,
   "metadata": {},
   "outputs": [],
   "source": [
    "model = gensim.models.doc2vec.Doc2Vec(\n",
    "    documents=gensim.models.doc2vec.TaggedLineDocument('tmp/metrics/phrased.txt'), \n",
    "    epochs=500, vector_size=300, workers=4\n",
    ")\n",
    "\n",
    "tmp['vectors'] = model.docvecs.vectors_docs.tolist()"
   ]
  },
  {
   "cell_type": "code",
   "execution_count": 52,
   "metadata": {},
   "outputs": [],
   "source": [
    "model.save('tmp/metrics/all_texts.model')\n",
    "tmp.to_csv('tmp/metrics/all.csv.gz', index=False, compression='gzip')"
   ]
  },
  {
   "cell_type": "markdown",
   "metadata": {},
   "source": [
    "Labels for train and test dataset"
   ]
  },
  {
   "cell_type": "code",
   "execution_count": 70,
   "metadata": {},
   "outputs": [],
   "source": [
    "tmp['label'] = tmp['name'].map(lambda x: x.split()[0].replace(\"Ст.\", \"\"))\n",
    "criminal_court_orders_test['labels'] = criminal_court_orders_test['labels'].str.split()"
   ]
  },
  {
   "cell_type": "markdown",
   "metadata": {},
   "source": [
    "Guess embeddings for test samples"
   ]
  },
  {
   "cell_type": "code",
   "execution_count": 93,
   "metadata": {},
   "outputs": [],
   "source": [
    "def embed_text(lemmas):\n",
    "    return model.infer_vector(phraser[lemmas.split()])"
   ]
  },
  {
   "cell_type": "code",
   "execution_count": 102,
   "metadata": {},
   "outputs": [],
   "source": [
    "from tqdm import tqdm"
   ]
  },
  {
   "cell_type": "code",
   "execution_count": null,
   "metadata": {},
   "outputs": [
    {
     "name": "stderr",
     "output_type": "stream",
     "text": [
      " 12%|█▏        | 695/5594 [06:42<33:34,  2.43it/s]"
     ]
    }
   ],
   "source": [
    "vectors = []\n",
    "for vtext in tqdm(criminal_court_orders_test['lemmas'].tolist()):\n",
    "    vectors.append(embed_text(vtext))\n",
    "criminal_court_orders_test['vectors'] = vectors"
   ]
  },
  {
   "cell_type": "markdown",
   "metadata": {},
   "source": [
    "Creating KDTree from train vectors"
   ]
  },
  {
   "cell_type": "code",
   "execution_count": 110,
   "metadata": {},
   "outputs": [
    {
     "data": {
      "text/plain": [
       "804"
      ]
     },
     "execution_count": 110,
     "metadata": {},
     "output_type": "execute_result"
    }
   ],
   "source": [
    "len(criminal_court_orders_test.iloc[:804].index)"
   ]
  },
  {
   "cell_type": "code",
   "execution_count": 120,
   "metadata": {},
   "outputs": [],
   "source": [
    "test = criminal_court_orders_test.iloc[:804]"
   ]
  },
  {
   "cell_type": "code",
   "execution_count": 117,
   "metadata": {},
   "outputs": [],
   "source": []
  },
  {
   "cell_type": "code",
   "execution_count": 184,
   "metadata": {},
   "outputs": [],
   "source": [
    "def find_within_radius(embedding, radius):\n",
    "    neighbours = point_tree.query_ball_point(embedding, radius)\n",
    "    return neighbours if neighbours else None"
   ]
  },
  {
   "cell_type": "code",
   "execution_count": 185,
   "metadata": {},
   "outputs": [],
   "source": [
    "code = tmp[tmp['source'] == 'criminal_code'].reset_index(drop=True).copy()"
   ]
  },
  {
   "cell_type": "code",
   "execution_count": 186,
   "metadata": {},
   "outputs": [],
   "source": [
    "point_tree = spatial.cKDTree(code['vectors'].tolist())"
   ]
  },
  {
   "cell_type": "code",
   "execution_count": null,
   "metadata": {},
   "outputs": [],
   "source": []
  },
  {
   "cell_type": "code",
   "execution_count": 190,
   "metadata": {},
   "outputs": [
    {
     "name": "stdout",
     "output_type": "stream",
     "text": [
      "radius: 0\tacc: 0.00000\tn_size: 0.00000\n",
      "radius: 5\tacc: 0.00000\tn_size: 0.00000\n",
      "radius: 10\tacc: 0.00000\tn_size: 0.00000\n",
      "radius: 15\tacc: 0.00000\tn_size: 0.00000\n",
      "radius: 20\tacc: 0.00000\tn_size: 0.00000\n",
      "radius: 25\tacc: 0.00000\tn_size: 0.00001\n",
      "radius: 30\tacc: 0.01990\tn_size: 0.00521\n",
      "radius: 35\tacc: 0.13184\tn_size: 0.06264\n",
      "radius: 40\tacc: 0.37065\tn_size: 0.24145\n",
      "radius: 45\tacc: 0.65299\tn_size: 0.52406\n",
      "radius: 50\tacc: 0.87065\tn_size: 0.77765\n",
      "radius: 55\tacc: 0.96642\tn_size: 0.92025\n",
      "radius: 60\tacc: 0.98756\tn_size: 0.97217\n",
      "radius: 65\tacc: 0.99378\tn_size: 0.99002\n",
      "radius: 70\tacc: 0.99627\tn_size: 0.99522\n",
      "radius: 75\tacc: 0.99751\tn_size: 0.99719\n",
      "radius: 80\tacc: 0.99876\tn_size: 0.99848\n",
      "radius: 85\tacc: 0.99876\tn_size: 0.99874\n",
      "radius: 90\tacc: 0.99876\tn_size: 0.99876\n",
      "radius: 95\tacc: 1.00000\tn_size: 0.99975\n"
     ]
    },
    {
     "data": {
      "image/png": "[encoded data removed]",
      "text/plain": [
       "<Figure size 1080x504 with 1 Axes>"
      ]
     },
     "metadata": {
      "needs_background": "light"
     },
     "output_type": "display_data"
    }
   ],
   "source": [
    "acc = 0\n",
    "radius = 0\n",
    "results = {} \n",
    "count_neighbours = {}\n",
    "    \n",
    "while acc != 1:\n",
    "    for embedding, labels in test[['vectors', 'labels']].to_records(index=False):\n",
    "        result = 0\n",
    "        count = 0\n",
    "        neighbors = find_within_radius(embedding, radius)\n",
    "        \n",
    "        if neighbors:\n",
    "            count = len(neighbors)\n",
    "            for neighbour in neighbors:\n",
    "                if code.loc[neighbour, 'label'] in labels:\n",
    "                    result = 1\n",
    "        \n",
    "        if radius not in count_neighbours:\n",
    "            count_neighbours[radius] = [count]\n",
    "        else:\n",
    "            count_neighbours[radius].append(count)\n",
    "            \n",
    "        if radius not in results:\n",
    "            results[radius] = [result]\n",
    "        else:\n",
    "            results[radius].append(result)\n",
    "    acc = pd.np.mean(results[radius])\n",
    "    n_size = pd.np.mean(count_neighbours[radius]) / code.shape[0]\n",
    "    print(f\"radius: {radius}\\tacc: {acc:.5f}\\tn_size: {n_size:.5f}\")\n",
    "    radius += 5\n",
    "    \n",
    "plt.figure(figsize=(15, 7))\n",
    "plt.plot(\n",
    "    [r for r in results], \n",
    "    [pd.np.mean(results[r]) for r in results], \n",
    "    label=\"avg accuracy\", #  (mean % matching label found in the neighbourhood)\n",
    ")\n",
    "plt.plot(\n",
    "    [r for r in count_neighbours],\n",
    "    [pd.np.mean(count_neighbours[r]) / code.shape[0] for r in count_neighbours],\n",
    "    label=\"avg neighbourhood size\", # (mean size of the neighbourhood in % from all samples),\n",
    ")\n",
    "plt.title(\"Embedding perfomance\")\n",
    "plt.legend(loc=\"best\")\n",
    "plt.xlabel(\"radius\")\n",
    "plt.grid()\n",
    "plt.show()"
   ]
  },
  {
   "cell_type": "code",
   "execution_count": null,
   "metadata": {},
   "outputs": [],
   "source": []
  }
 ],
 "metadata": {
  "kernelspec": {
   "display_name": "Python 3.6 (testing)",
   "language": "python",
   "name": "testing"
  },
  "language_info": {
   "codemirror_mode": {
    "name": "ipython",
    "version": 3
   },
   "file_extension": ".py",
   "mimetype": "text/x-python",
   "name": "python",
   "nbconvert_exporter": "python",
   "pygments_lexer": "ipython3",
   "version": "3.6.7"
  }
 },
 "nbformat": 4,
 "nbformat_minor": 2
}
