{
 "cells": [
  {
   "cell_type": "code",
   "execution_count": 1,
   "metadata": {
    "collapsed": true
   },
   "outputs": [],
   "source": [
    "import pandas as pd\n",
    "import numpy as np\n",
    "from pymystem3 import Mystem\n",
    "from many_stop_words import get_stop_words\n",
    "import gensim\n",
    "import seaborn as sns\n",
    "import matplotlib.pyplot as plt\n",
    "from scipy.spatial.distance import cosine\n",
    "%matplotlib inline\n",
    "\n",
    "ru_stopwords = get_stop_words('ru')"
   ]
  },
  {
   "cell_type": "code",
   "execution_count": 2,
   "metadata": {
    "collapsed": true
   },
   "outputs": [],
   "source": [
    "df = pd.read_csv('data/judicial_orders_lemmas.csv') # Параллельный корпус (текст-статьи)\n",
    "code = pd.read_csv('data/criminal_code.csv') # УК РФ\n",
    "dictionary = gensim.corpora.Dictionary.load('data/opencorpora/opencorpora.dict') # Известные слова русского языка (из opencorpora)"
   ]
  },
  {
   "cell_type": "code",
   "execution_count": 3,
   "metadata": {
    "collapsed": true
   },
   "outputs": [],
   "source": [
    "df['lemmas'] = df['lemmas'].map(eval)\n",
    "code['lemmas'] = code['lemmas'].map(eval)"
   ]
  },
  {
   "cell_type": "code",
   "execution_count": 4,
   "metadata": {
    "collapsed": true
   },
   "outputs": [],
   "source": [
    "code['bow'] = code['lemmas'].map(dictionary.doc2bow)\n",
    "df['bow'] = df['lemmas'].map(dictionary.doc2bow)"
   ]
  },
  {
   "cell_type": "code",
   "execution_count": 6,
   "metadata": {
    "collapsed": true
   },
   "outputs": [],
   "source": [
    "tf_idf = gensim.models.TfidfModel.load('data/opencorpora/tfidf/opencorpora_tfidf.model')"
   ]
  },
  {
   "cell_type": "code",
   "execution_count": 7,
   "metadata": {
    "collapsed": true
   },
   "outputs": [],
   "source": [
    "def map_vector(vector, size):\n",
    "    a = np.zeros(size)\n",
    "    for n, value in vector:\n",
    "        a[n] = value\n",
    "    return a"
   ]
  },
  {
   "cell_type": "code",
   "execution_count": 8,
   "metadata": {
    "collapsed": true
   },
   "outputs": [],
   "source": [
    "size = len(dictionary)\n",
    "code['tfidf'] = code['bow'].map(lambda bow: map_vector(tf_idf[bow], size))\n",
    "df['tfidf'] = df['bow'].map(lambda bow: map_vector(tf_idf[bow], size))"
   ]
  },
  {
   "cell_type": "markdown",
   "metadata": {},
   "source": [
    "Расстояния между каждым делом и каждой статьёй УК РФ:"
   ]
  },
  {
   "cell_type": "code",
   "execution_count": null,
   "metadata": {
    "collapsed": true
   },
   "outputs": [],
   "source": [
    "distances = np.zeros((df.shape[0], code.shape[0]))\n",
    "\n",
    "for i, text in enumerate(df['tfidf'].tolist()):\n",
    "    for j, article in enumerate(code['tfidf'].tolist()):\n",
    "        distances[i, j] = cosine(text, article)"
   ]
  },
  {
   "cell_type": "code",
   "execution_count": null,
   "metadata": {
    "scrolled": false
   },
   "outputs": [],
   "source": [
    "fig, ax = plt.subplots(figsize=(15, 30))\n",
    "ax.set_title('Cosine distance между содержательной частью судебного решения и статьями УК РФ')\n",
    "ax = sns.heatmap(distances, ax=ax)"
   ]
  },
  {
   "cell_type": "markdown",
   "metadata": {},
   "source": [
    "Аномально близкие ко многим делам статьи:"
   ]
  },
  {
   "cell_type": "code",
   "execution_count": null,
   "metadata": {},
   "outputs": [],
   "source": [
    "print('\\n'.join(['{number}:\\t{name}'.format(**text[1]) for text in code.loc[290:300][['number', 'name']].iterrows()]))"
   ]
  },
  {
   "cell_type": "code",
   "execution_count": null,
   "metadata": {
    "collapsed": true
   },
   "outputs": [],
   "source": [
    "num_predictions = 5\n",
    "for i in range(distances.shape[0]):\n",
    "    df.loc[i, 'predicted'] = str([code.loc[j, 'number'] for j in distances[i].argsort()[:num_predictions]])\n",
    "\n",
    "df['predicted'] = df['predicted'].map(eval)\n",
    "df['labels'] = df['labels'].map(eval)"
   ]
  },
  {
   "cell_type": "code",
   "execution_count": null,
   "metadata": {
    "collapsed": true
   },
   "outputs": [],
   "source": [
    "def intersection(row):\n",
    "    return len(set(row['labels']).intersection(set(row['predicted'])))\n",
    "\n",
    "df['intersection'] = df.apply(intersection, axis=1)"
   ]
  },
  {
   "cell_type": "code",
   "execution_count": null,
   "metadata": {
    "collapsed": true
   },
   "outputs": [],
   "source": [
    "def has_intersection(row):\n",
    "    if len(set(row['labels']).intersection(set(row['predicted']))) > 0:\n",
    "        return 1\n",
    "    return 0\n",
    "df['is_right'] = df.apply(has_intersection, axis=1)"
   ]
  },
  {
   "cell_type": "code",
   "execution_count": null,
   "metadata": {
    "scrolled": true
   },
   "outputs": [],
   "source": [
    "df['is_right'].sum() / df.shape[0]"
   ]
  },
  {
   "cell_type": "code",
   "execution_count": null,
   "metadata": {},
   "outputs": [],
   "source": [
    "df[['title', 'labels', 'predicted', 'is_right', 'intersection']].to_csv('results/tf_idf.csv', index=False)\n",
    "df[['title', 'labels', 'predicted', 'is_right', 'intersection']].head(15)"
   ]
  }
 ],
 "metadata": {
  "kernelspec": {
   "display_name": "Python 3.5.2 (virtualenv)",
   "language": "python",
   "name": "py35"
  },
  "language_info": {
   "codemirror_mode": {
    "name": "ipython",
    "version": 3
   },
   "file_extension": ".py",
   "mimetype": "text/x-python",
   "name": "python",
   "nbconvert_exporter": "python",
   "pygments_lexer": "ipython3",
   "version": "3.5.2"
  }
 },
 "nbformat": 4,
 "nbformat_minor": 2
}
