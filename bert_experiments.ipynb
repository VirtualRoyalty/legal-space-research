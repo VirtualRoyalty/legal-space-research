{
 "cells": [
  {
   "cell_type": "code",
   "execution_count": null,
   "metadata": {},
   "outputs": [],
   "source": [
    "import pandas as pd\n",
    "from bert_serving.client import BertClient"
   ]
  },
  {
   "cell_type": "code",
   "execution_count": 1,
   "metadata": {},
   "outputs": [],
   "source": [
    "bc = BertClient(ip='localhost', check_length=False)"
   ]
  },
  {
   "cell_type": "code",
   "execution_count": 3,
   "metadata": {},
   "outputs": [],
   "source": [
    "oc = pd.read_csv('tmp/opencorpora.csv.gz', compression='gzip')\n",
    "criminal_code = pd.read_csv('tmp/vectors/criminal_code.csv.gz', compression='gzip')\n",
    "criminal_court_orders = pd.read_csv('tmp/vectors/criminal_court_orders.csv.gz', compression='gzip')\n",
    "civil_code = pd.read_csv('tmp/vectors/civil_code.csv.gz', compression='gzip')\n",
    "civil_court_orders = pd.read_csv('tmp/vectors/civil_court_orders.csv.gz', compression='gzip')\n",
    "\n",
    "oc['source'] = 'opencorpora'\n",
    "criminal_code['source'] = 'criminal_code'\n",
    "criminal_court_orders['source'] = 'criminal_court_orders'\n",
    "civil_code['source'] = 'civil_code'\n",
    "civil_court_orders['source'] = 'civil_court_orders'\n",
    "\n",
    "criminal_code['name'] = criminal_code.apply(lambda x: \"Ст.{} {}\".format(x['article_number'], x['article_name']), axis=1)\n",
    "civil_code['name'] = civil_code.apply(lambda x: \"Ст.{} {}\".format(x['article_number'], x['article_name']), axis=1)\n",
    "\n",
    "civil_court_orders['name'] = [\"Гражд. дело {}\".format(i) for i in range(civil_court_orders.shape[0])]"
   ]
  },
  {
   "cell_type": "code",
   "execution_count": 4,
   "metadata": {},
   "outputs": [],
   "source": [
    "tmp = pd.concat([\n",
    "    oc.reset_index()[['index', 'title', 'text', 'source']].rename(columns={'title':'name'}), \n",
    "    criminal_code.reset_index()[['index', 'name', 'article', 'source']].rename(columns={\"article\": \"text\"}),\n",
    "    criminal_court_orders.reset_index()[['index', 'title', 'case',  'source']].rename(columns={'title':'name', \"case\":\"text\"}),\n",
    "    civil_code.reset_index()[['index', 'name', 'article', 'source']].rename(columns={\"article\": \"text\"}),\n",
    "    civil_court_orders.reset_index()[['index', 'name', 'text', 'source']],\n",
    "]).reset_index(drop=True)"
   ]
  },
  {
   "cell_type": "code",
   "execution_count": 13,
   "metadata": {},
   "outputs": [
    {
     "name": "stdout",
     "output_type": "stream",
     "text": [
      "CPU times: user 4.13 s, sys: 3.28 s, total: 7.41 s\n",
      "Wall time: 21min 29s\n"
     ]
    }
   ],
   "source": [
    "%%time\n",
    "bert_vec = bc.encode(tmp['text'].tolist())"
   ]
  },
  {
   "cell_type": "code",
   "execution_count": 22,
   "metadata": {},
   "outputs": [],
   "source": [
    "tmp['vectors'] = bert_vec.tolist()"
   ]
  },
  {
   "cell_type": "code",
   "execution_count": 27,
   "metadata": {},
   "outputs": [],
   "source": [
    "tmp.to_csv(\"tmp/vectors/bert_all.csv.gz\", compression='gzip', index=False)"
   ]
  }
 ],
 "metadata": {
  "kernelspec": {
   "display_name": "Python 3.6 (testing)",
   "language": "python",
   "name": "testing"
  },
  "language_info": {
   "codemirror_mode": {
    "name": "ipython",
    "version": 3
   },
   "file_extension": ".py",
   "mimetype": "text/x-python",
   "name": "python",
   "nbconvert_exporter": "python",
   "pygments_lexer": "ipython3",
   "version": "3.6.7"
  }
 },
 "nbformat": 4,
 "nbformat_minor": 2
}
