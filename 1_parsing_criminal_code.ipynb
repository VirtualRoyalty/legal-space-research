{
 "cells": [
  {
   "cell_type": "code",
   "execution_count": 4,
   "metadata": {
    "collapsed": true
   },
   "outputs": [],
   "source": [
    "import pandas as pd\n",
    "import re\n",
    "from lxml import etree\n",
    "from pymystem3 import Mystem\n",
    "import many_stop_words\n",
    "ru_stopwords = many_stop_words.get_stop_words('ru').union(\n",
    "    {'либо', 'б', 'срок', 'иной', 'преступление', 'наказание', 'мера', \n",
    "     'лишение', 'свобода', 'гражданин', 'размер', 'лицо'}\n",
    ")"
   ]
  },
  {
   "cell_type": "code",
   "execution_count": 5,
   "metadata": {
    "collapsed": true
   },
   "outputs": [],
   "source": [
    "with open('data/RFCriminalCode.xml', 'r') as file:\n",
    "    tree = etree.parse(file)"
   ]
  },
  {
   "cell_type": "code",
   "execution_count": 6,
   "metadata": {
    "collapsed": true
   },
   "outputs": [],
   "source": [
    "root = tree.getroot()\n",
    "\n",
    "articles = pd.DataFrame(columns = ['number', 'section', 'section_name', 'chapter', 'chapter_name', 'name', 'body'])\n",
    "sec = {'I':1, 'II':2, 'III':3, 'IV':4, 'V':5, 'VI':6, 'VII':7, 'VIII':8, 'IX':9, 'X':10, 'XI':11, 'XII':11}\n",
    "\n",
    "for part in root.getchildren():\n",
    "    for section in part.getchildren():\n",
    "        for chapter in section.getchildren():\n",
    "            for article in chapter.getchildren():\n",
    "                articles = articles.append({\n",
    "                    'number': float(article.get('number')),\n",
    "                    'section': sec[section.get('number')],\n",
    "                    'section_name': section.get('name'),\n",
    "                    'chapter': float(chapter.get('number')),\n",
    "                    'chapter_name': chapter.get('name'),\n",
    "                    'name': article.get('name'),\n",
    "                    'body': article.getchildren()[0].text\n",
    "                }, ignore_index=True)"
   ]
  },
  {
   "cell_type": "markdown",
   "metadata": {},
   "source": [
    "Вырезаем ссылки на другие статьи из текста статей"
   ]
  },
  {
   "cell_type": "code",
   "execution_count": 7,
   "metadata": {
    "collapsed": true
   },
   "outputs": [],
   "source": [
    "pattern = re.compile('\\s\\((\\w|\\s)*стать.*?\\)')\n",
    "articles['body'] = articles['body'].map(lambda x: re.sub(pattern, '', x))"
   ]
  },
  {
   "cell_type": "markdown",
   "metadata": {},
   "source": [
    "Лемматизируем статьи"
   ]
  },
  {
   "cell_type": "code",
   "execution_count": 8,
   "metadata": {
    "collapsed": true
   },
   "outputs": [],
   "source": [
    "m = Mystem(entire_input=False)\n",
    "articles['lemmas'] = articles['body'].map(m.lemmatize)"
   ]
  },
  {
   "cell_type": "markdown",
   "metadata": {},
   "source": [
    "Выбрасываем стоп-слова"
   ]
  },
  {
   "cell_type": "code",
   "execution_count": 9,
   "metadata": {
    "collapsed": true
   },
   "outputs": [],
   "source": [
    "articles['lemmas'] = articles['lemmas'].map(lambda lemmas: list(filter(lambda lemma: lemma not in ru_stopwords, lemmas)))"
   ]
  },
  {
   "cell_type": "code",
   "execution_count": 10,
   "metadata": {
    "collapsed": true
   },
   "outputs": [],
   "source": [
    "articles.to_csv('data/criminal_code.csv', index=False)"
   ]
  }
 ],
 "metadata": {
  "kernelspec": {
   "display_name": "cc_env",
   "language": "python",
   "name": "cc_env"
  },
  "language_info": {
   "codemirror_mode": {
    "name": "ipython",
    "version": 3
   },
   "file_extension": ".py",
   "mimetype": "text/x-python",
   "name": "python",
   "nbconvert_exporter": "python",
   "pygments_lexer": "ipython3",
   "version": "3.6.4"
  }
 },
 "nbformat": 4,
 "nbformat_minor": 2
}
