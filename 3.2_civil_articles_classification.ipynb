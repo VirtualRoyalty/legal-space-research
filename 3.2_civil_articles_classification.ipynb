{
 "cells": [
  {
   "cell_type": "code",
   "execution_count": 1,
   "metadata": {},
   "outputs": [],
   "source": [
    "import pandas as pd\n",
    "import numpy as np\n",
    "\n",
    "from sklearn.preprocessing import MultiLabelBinarizer\n",
    "from sklearn.model_selection import train_test_split\n",
    "from sklearn.metrics import accuracy_score, hamming_loss, f1_score\n",
    "\n",
    "from sklearn.ensemble import RandomForestClassifier\n",
    "from sklearn.naive_bayes import GaussianNB\n",
    "from sklearn.tree import DecisionTreeClassifier\n",
    "\n",
    "from skmultilearn.problem_transform import BinaryRelevance"
   ]
  },
  {
   "cell_type": "code",
   "execution_count": 2,
   "metadata": {},
   "outputs": [],
   "source": [
    "pd.set_option('display.max_colwidth', -1)"
   ]
  },
  {
   "cell_type": "code",
   "execution_count": 3,
   "metadata": {},
   "outputs": [],
   "source": [
    "df = pd.read_csv('resources/civil_court_orders_to_classifier.csv.gz', compression='gzip') "
   ]
  },
  {
   "cell_type": "markdown",
   "metadata": {},
   "source": [
    "## Data preparation"
   ]
  },
  {
   "cell_type": "code",
   "execution_count": 4,
   "metadata": {},
   "outputs": [],
   "source": [
    "df.loc[:, ['vectors', 'pca', 'money', 'descr_articles']] = df.loc[:, ['vectors', 'pca', 'money', 'descr_articles']].applymap(eval)"
   ]
  },
  {
   "cell_type": "code",
   "execution_count": 5,
   "metadata": {},
   "outputs": [],
   "source": [
    "vectors = df['vectors'].tolist()\n",
    "articles = df['descr_articles'].tolist()"
   ]
  },
  {
   "cell_type": "code",
   "execution_count": 6,
   "metadata": {},
   "outputs": [],
   "source": [
    "mlb = MultiLabelBinarizer()\n",
    "binarized_articles = mlb.fit_transform(articles)"
   ]
  },
  {
   "cell_type": "code",
   "execution_count": 7,
   "metadata": {},
   "outputs": [
    {
     "name": "stdout",
     "output_type": "stream",
     "text": [
      "Number of unique articles in the dataset = 876\n"
     ]
    }
   ],
   "source": [
    "print(f\"Number of unique articles in the dataset = {mlb.classes_.shape[0]}\")"
   ]
  },
  {
   "cell_type": "markdown",
   "metadata": {},
   "source": [
    "## Multi-label classification"
   ]
  },
  {
   "cell_type": "code",
   "execution_count": 9,
   "metadata": {},
   "outputs": [],
   "source": [
    "x, y = np.array(vectors), binarized_articles"
   ]
  },
  {
   "cell_type": "code",
   "execution_count": 10,
   "metadata": {},
   "outputs": [],
   "source": [
    "x_train, x_test, y_train, y_test = train_test_split(x, y, test_size=0.3, random_state=88, shuffle=True)"
   ]
  },
  {
   "cell_type": "code",
   "execution_count": 11,
   "metadata": {},
   "outputs": [
    {
     "data": {
      "text/plain": [
       "((5963, 100), (2556, 100))"
      ]
     },
     "execution_count": 11,
     "metadata": {},
     "output_type": "execute_result"
    }
   ],
   "source": [
    "x_train.shape, x_test.shape"
   ]
  },
  {
   "cell_type": "code",
   "execution_count": 12,
   "metadata": {},
   "outputs": [
    {
     "data": {
      "text/plain": [
       "((5963, 876), (2556, 876))"
      ]
     },
     "execution_count": 12,
     "metadata": {},
     "output_type": "execute_result"
    }
   ],
   "source": [
    "y_train.shape, y_test.shape"
   ]
  },
  {
   "cell_type": "code",
   "execution_count": 13,
   "metadata": {},
   "outputs": [
    {
     "name": "stdout",
     "output_type": "stream",
     "text": [
      "Wall time: 20.8 s\n"
     ]
    }
   ],
   "source": [
    "%%time\n",
    "\n",
    "classifier = BinaryRelevance(GaussianNB())\n",
    "classifier.fit(x_train, y_train)\n",
    "predictions = classifier.predict(x_test)"
   ]
  },
  {
   "cell_type": "code",
   "execution_count": 14,
   "metadata": {},
   "outputs": [
    {
     "name": "stdout",
     "output_type": "stream",
     "text": [
      "F1-score = 0.4078\n"
     ]
    }
   ],
   "source": [
    "print(f\"F1-score = {f1_score(y_test, predictions, average='micro'):.4f}\")"
   ]
  },
  {
   "cell_type": "code",
   "execution_count": 16,
   "metadata": {},
   "outputs": [
    {
     "data": {
      "text/html": [
       "<div>\n",
       "<style scoped>\n",
       "    .dataframe tbody tr th:only-of-type {\n",
       "        vertical-align: middle;\n",
       "    }\n",
       "\n",
       "    .dataframe tbody tr th {\n",
       "        vertical-align: top;\n",
       "    }\n",
       "\n",
       "    .dataframe thead th {\n",
       "        text-align: right;\n",
       "    }\n",
       "</style>\n",
       "<table border=\"1\" class=\"dataframe\">\n",
       "  <thead>\n",
       "    <tr style=\"text-align: right;\">\n",
       "      <th></th>\n",
       "      <th>True</th>\n",
       "      <th>Predicted</th>\n",
       "      <th>True subset</th>\n",
       "    </tr>\n",
       "  </thead>\n",
       "  <tbody>\n",
       "    <tr>\n",
       "      <th>0</th>\n",
       "      <td>(131, 164, 165, 167, 17, 19, 25, 29, 35, 422, 432, 549, 550, 551, 554, 558)</td>\n",
       "      <td>(131, 165, 194, 209, 218, 35, 352, 50, 549, 551)</td>\n",
       "      <td>{165, 549, 551, 131, 35}</td>\n",
       "    </tr>\n",
       "    <tr>\n",
       "      <th>1</th>\n",
       "      <td>(1, 12.1, 129, 130, 14.1, 15, 194, 210, 284, 333.36, 35, 79)</td>\n",
       "      <td>(1, 1151, 1152, 12.1, 130, 14.1, 18, 284, 79)</td>\n",
       "      <td>{12.1, 284, 14.1, 1, 79, 130}</td>\n",
       "    </tr>\n",
       "    <tr>\n",
       "      <th>2</th>\n",
       "      <td>(167, 194, 198, 39)</td>\n",
       "      <td>(233, 309, 310, 330, 333, 333.19, 450, 809, 810, 811, 819, 88, 98)</td>\n",
       "      <td>{}</td>\n",
       "    </tr>\n",
       "    <tr>\n",
       "      <th>3</th>\n",
       "      <td>(1, 103, 12, 16, 194, 3, 39, 4, 46, 5, 67, 7)</td>\n",
       "      <td>(1, 10, 100, 103, 11, 12, 123, 13, 15, 16, 167, 17, 18, 194, 3, 4, 41, 454, 46, 469, 470, 5, 67, 7, 8, 9)</td>\n",
       "      <td>{4, 1, 103, 5, 16, 46, 194, 12, 67, 3, 7}</td>\n",
       "    </tr>\n",
       "    <tr>\n",
       "      <th>4</th>\n",
       "      <td>(1, 11, 14, 19, 194, 39, 56, 6, 7)</td>\n",
       "      <td>(11, 173, 19, 194, 198, 2, 212, 28, 29, 34, 39, 42, 7, 8)</td>\n",
       "      <td>{11, 194, 19, 39, 7}</td>\n",
       "    </tr>\n",
       "    <tr>\n",
       "      <th>5</th>\n",
       "      <td>(12, 123, 194, 2, 209, 212, 28, 57)</td>\n",
       "      <td>(103, 11, 12, 151, 194, 2, 212, 213, 3, 34, 39, 7, 8)</td>\n",
       "      <td>{2, 12, 194, 212}</td>\n",
       "    </tr>\n",
       "    <tr>\n",
       "      <th>6</th>\n",
       "      <td>(309, 310, 333.19, 434, 438, 56, 807, 809, 810, 811, 819, 98)</td>\n",
       "      <td>(113, 117, 233, 309, 310, 319, 329, 330, 331, 333, 395, 420, 421, 422, 428, 432, 433, 434, 435, 438, 450, 56, 6.1, 67, 807, 809, 810, 811, 819, 820, 88, 96, 98)</td>\n",
       "      <td>{98, 434, 309, 811, 438, 810, 310, 807, 809, 819, 56}</td>\n",
       "    </tr>\n",
       "    <tr>\n",
       "      <th>7</th>\n",
       "      <td>(333, 810, 811, 819, 98)</td>\n",
       "      <td>(113, 123, 160, 167, 194, 233, 309, 310, 421, 432, 434, 56, 809, 810, 811, 819, 98)</td>\n",
       "      <td>{819, 810, 811, 98}</td>\n",
       "    </tr>\n",
       "    <tr>\n",
       "      <th>8</th>\n",
       "      <td>(173, 220, 264, 39)</td>\n",
       "      <td>(1099, 1101, 134, 135, 151, 193, 194, 220, 237, 24, 333.36, 39, 51, 54, 6, 61, 77)</td>\n",
       "      <td>{39, 220}</td>\n",
       "    </tr>\n",
       "    <tr>\n",
       "      <th>9</th>\n",
       "      <td>(10, 100, 103, 12, 13, 15, 167, 18, 194, 206, 333, 45, 56, 57, 67, 8, 88, 94)</td>\n",
       "      <td>(1, 10, 100, 103, 12, 13, 15, 150, 167, 18, 194, 206, 333, 333.19, 41, 67, 8, 88, 94)</td>\n",
       "      <td>{13, 8, 10, 103, 167, 100, 333, 94, 88, 194, 12, 18, 67, 15, 206}</td>\n",
       "    </tr>\n",
       "    <tr>\n",
       "      <th>10</th>\n",
       "      <td>(194, 264)</td>\n",
       "      <td>(194, 2, 27)</td>\n",
       "      <td>{194}</td>\n",
       "    </tr>\n",
       "    <tr>\n",
       "      <th>11</th>\n",
       "      <td>(139, 194, 213, 235, 333.18, 37, 391, 394, 46, 48, 66, 81, 98)</td>\n",
       "      <td>(140, 152, 194, 196, 197, 199, 2, 237, 249, 26, 27, 32, 36, 392, 53, 54, 6, 61, 7, 77, 80, 81)</td>\n",
       "      <td>{194, 81}</td>\n",
       "    </tr>\n",
       "    <tr>\n",
       "      <th>12</th>\n",
       "      <td>(1, 114, 150, 165.1, 175, 2, 20, 286, 3, 3.1, 333.19, 363, 45, 48, 52, 57, 69, 70, 75, 96)</td>\n",
       "      <td>(1, 103, 114, 14, 150, 165.1, 175, 2, 20, 23, 286, 289, 291, 292, 3, 3.1, 333.19, 358, 363, 387, 401, 44, 45, 48, 52, 57, 69, 70, 75, 96)</td>\n",
       "      <td>{57, 286, 165.1, 150, 20, 96, 48, 70, 363, 114, 3, 333.19, 75, 175, 1, 45, 52, 69, 3.1, 2}</td>\n",
       "    </tr>\n",
       "    <tr>\n",
       "      <th>13</th>\n",
       "      <td>(175, 23, 286, 44, 45, 46, 59, 62, 69, 70)</td>\n",
       "      <td>(114, 115, 14, 175, 180, 2, 207, 208, 210, 224, 228, 23, 289, 290, 3, 333.19, 358, 360, 363, 387, 388, 389, 390, 391, 4, 44, 45, 46, 48, 57, 58, 59, 69, 70, 75, 84, 95)</td>\n",
       "      <td>{175, 69, 70, 46, 44, 23, 45, 59}</td>\n",
       "    </tr>\n",
       "    <tr>\n",
       "      <th>14</th>\n",
       "      <td>(103, 12, 136, 21, 37, 45)</td>\n",
       "      <td>(103, 136, 14, 150, 173, 198, 21, 211, 22, 222, 286, 333.19, 333.20, 37, 39, 4, 45, 52, 57, 61.1, 62, 69, 85)</td>\n",
       "      <td>{21, 103, 37, 136, 45}</td>\n",
       "    </tr>\n",
       "  </tbody>\n",
       "</table>\n",
       "</div>"
      ],
      "text/plain": [
       "                                                                                          True  \\\n",
       "0   (131, 164, 165, 167, 17, 19, 25, 29, 35, 422, 432, 549, 550, 551, 554, 558)                  \n",
       "1   (1, 12.1, 129, 130, 14.1, 15, 194, 210, 284, 333.36, 35, 79)                                 \n",
       "2   (167, 194, 198, 39)                                                                          \n",
       "3   (1, 103, 12, 16, 194, 3, 39, 4, 46, 5, 67, 7)                                                \n",
       "4   (1, 11, 14, 19, 194, 39, 56, 6, 7)                                                           \n",
       "5   (12, 123, 194, 2, 209, 212, 28, 57)                                                          \n",
       "6   (309, 310, 333.19, 434, 438, 56, 807, 809, 810, 811, 819, 98)                                \n",
       "7   (333, 810, 811, 819, 98)                                                                     \n",
       "8   (173, 220, 264, 39)                                                                          \n",
       "9   (10, 100, 103, 12, 13, 15, 167, 18, 194, 206, 333, 45, 56, 57, 67, 8, 88, 94)                \n",
       "10  (194, 264)                                                                                   \n",
       "11  (139, 194, 213, 235, 333.18, 37, 391, 394, 46, 48, 66, 81, 98)                               \n",
       "12  (1, 114, 150, 165.1, 175, 2, 20, 286, 3, 3.1, 333.19, 363, 45, 48, 52, 57, 69, 70, 75, 96)   \n",
       "13  (175, 23, 286, 44, 45, 46, 59, 62, 69, 70)                                                   \n",
       "14  (103, 12, 136, 21, 37, 45)                                                                   \n",
       "\n",
       "                                                                                                                                                                   Predicted  \\\n",
       "0   (131, 165, 194, 209, 218, 35, 352, 50, 549, 551)                                                                                                                           \n",
       "1   (1, 1151, 1152, 12.1, 130, 14.1, 18, 284, 79)                                                                                                                              \n",
       "2   (233, 309, 310, 330, 333, 333.19, 450, 809, 810, 811, 819, 88, 98)                                                                                                         \n",
       "3   (1, 10, 100, 103, 11, 12, 123, 13, 15, 16, 167, 17, 18, 194, 3, 4, 41, 454, 46, 469, 470, 5, 67, 7, 8, 9)                                                                  \n",
       "4   (11, 173, 19, 194, 198, 2, 212, 28, 29, 34, 39, 42, 7, 8)                                                                                                                  \n",
       "5   (103, 11, 12, 151, 194, 2, 212, 213, 3, 34, 39, 7, 8)                                                                                                                      \n",
       "6   (113, 117, 233, 309, 310, 319, 329, 330, 331, 333, 395, 420, 421, 422, 428, 432, 433, 434, 435, 438, 450, 56, 6.1, 67, 807, 809, 810, 811, 819, 820, 88, 96, 98)           \n",
       "7   (113, 123, 160, 167, 194, 233, 309, 310, 421, 432, 434, 56, 809, 810, 811, 819, 98)                                                                                        \n",
       "8   (1099, 1101, 134, 135, 151, 193, 194, 220, 237, 24, 333.36, 39, 51, 54, 6, 61, 77)                                                                                         \n",
       "9   (1, 10, 100, 103, 12, 13, 15, 150, 167, 18, 194, 206, 333, 333.19, 41, 67, 8, 88, 94)                                                                                      \n",
       "10  (194, 2, 27)                                                                                                                                                               \n",
       "11  (140, 152, 194, 196, 197, 199, 2, 237, 249, 26, 27, 32, 36, 392, 53, 54, 6, 61, 7, 77, 80, 81)                                                                             \n",
       "12  (1, 103, 114, 14, 150, 165.1, 175, 2, 20, 23, 286, 289, 291, 292, 3, 3.1, 333.19, 358, 363, 387, 401, 44, 45, 48, 52, 57, 69, 70, 75, 96)                                  \n",
       "13  (114, 115, 14, 175, 180, 2, 207, 208, 210, 224, 228, 23, 289, 290, 3, 333.19, 358, 360, 363, 387, 388, 389, 390, 391, 4, 44, 45, 46, 48, 57, 58, 59, 69, 70, 75, 84, 95)   \n",
       "14  (103, 136, 14, 150, 173, 198, 21, 211, 22, 222, 286, 333.19, 333.20, 37, 39, 4, 45, 52, 57, 61.1, 62, 69, 85)                                                              \n",
       "\n",
       "                                                                                   True subset  \n",
       "0   {165, 549, 551, 131, 35}                                                                    \n",
       "1   {12.1, 284, 14.1, 1, 79, 130}                                                               \n",
       "2   {}                                                                                          \n",
       "3   {4, 1, 103, 5, 16, 46, 194, 12, 67, 3, 7}                                                   \n",
       "4   {11, 194, 19, 39, 7}                                                                        \n",
       "5   {2, 12, 194, 212}                                                                           \n",
       "6   {98, 434, 309, 811, 438, 810, 310, 807, 809, 819, 56}                                       \n",
       "7   {819, 810, 811, 98}                                                                         \n",
       "8   {39, 220}                                                                                   \n",
       "9   {13, 8, 10, 103, 167, 100, 333, 94, 88, 194, 12, 18, 67, 15, 206}                           \n",
       "10  {194}                                                                                       \n",
       "11  {194, 81}                                                                                   \n",
       "12  {57, 286, 165.1, 150, 20, 96, 48, 70, 363, 114, 3, 333.19, 75, 175, 1, 45, 52, 69, 3.1, 2}  \n",
       "13  {175, 69, 70, 46, 44, 23, 45, 59}                                                           \n",
       "14  {21, 103, 37, 136, 45}                                                                      "
      ]
     },
     "execution_count": 16,
     "metadata": {},
     "output_type": "execute_result"
    }
   ],
   "source": [
    "results = pd.DataFrame()\n",
    "results['True'] = pd.Series(mlb.inverse_transform(y_test))\n",
    "results['Predicted'] = pd.Series(mlb.inverse_transform(predictions))\n",
    "results['True subset'] = results.apply(lambda row: set(row['Predicted']) & set(row['True']), axis=1)\n",
    "results.head(15)"
   ]
  }
 ],
 "metadata": {
  "kernelspec": {
   "display_name": "Python 3",
   "language": "python",
   "name": "python3"
  },
  "language_info": {
   "codemirror_mode": {
    "name": "ipython",
    "version": 3
   },
   "file_extension": ".py",
   "mimetype": "text/x-python",
   "name": "python",
   "nbconvert_exporter": "python",
   "pygments_lexer": "ipython3",
   "version": "3.5.2"
  }
 },
 "nbformat": 4,
 "nbformat_minor": 2
}
